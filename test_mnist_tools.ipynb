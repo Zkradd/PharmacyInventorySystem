{
  "nbformat": 4,
  "nbformat_minor": 0,
  "metadata": {
    "colab": {
      "provenance": [],
      "toc_visible": true,
      "gpuType": "T4",
      "include_colab_link": true
    },
    "kernelspec": {
      "name": "python3",
      "display_name": "Python 3"
    },
    "language_info": {
      "name": "python"
    },
    "accelerator": "GPU"
  },
  "cells": [
    {
      "cell_type": "markdown",
      "metadata": {
        "id": "view-in-github",
        "colab_type": "text"
      },
      "source": [
        "<a href=\"https://colab.research.google.com/github/Zkradd/projekt-app/blob/main/test_mnist_tools.ipynb\" target=\"_parent\"><img src=\"https://colab.research.google.com/assets/colab-badge.svg\" alt=\"Open In Colab\"/></a>"
      ]
    },
    {
      "cell_type": "markdown",
      "metadata": {
        "id": "nNQzUqNOTOxu"
      },
      "source": [
        "copyright 2020: *Władysław Skarbek, Warsaw University of Technology*<br>\n",
        "(Jupyter notebook addressed to students of: EADIR, GSN, MATMU)\n",
        "$\\newcommand{\\xconv}[5]{\n",
        "\\begin{array}[]{r}{\\tiny{#4\\ }}\\\\\\raise{2.5pt}{{\\tiny{#3}}}\\end{array}\n",
        "\\kern{-4pt}\n",
        "\\begin{array}[]{l}{\\LARGE\\bb{C}}\\kern{-6.5pt}\\raise{4.5pt}{{\\tiny{#5}}}\\end{array}\n",
        "\\kern{0pt}\n",
        "\\begin{array}[]{l}{\\tiny {#2}}\\\\\\raise{2.5pt}{{\\tiny{#1}}}\\end{array}}$\n",
        "$\\newcommand{\\xdense}[5]{\n",
        "\\begin{array}[]{r}{\\tiny{#4\\ }}\\\\\\raise{1.5pt}{{\\tiny{#3}}}\\end{array}\n",
        "\\kern{-4pt}\n",
        "\\begin{array}[]{l}{\\LARGE\\bb{F}}\\kern{-4.5pt}\\raise{1.5pt}{{\\tiny{#5}}}\\end{array}\n",
        "\\kern{2pt}\n",
        "\\begin{array}[]{l}{\\tiny {#2}}\\\\\\raise{1.5pt}{{\\tiny{#1}}}\\end{array}}$\n",
        "$\\newcommand{\\xpool}[5]{\n",
        "\\begin{array}[]{r}{\\tiny{#4\\ }}\\\\\\raise{1.5pt}{{\\tiny{#3}}}\\end{array}\n",
        "\\kern{-3pt}\n",
        "\\begin{array}[]{l}{\\LARGE\\bb{P}}\\kern{-6.5pt}\\raise{0.8pt}{{\\tiny{#5}}}\\end{array}\n",
        "\\kern{0pt}\n",
        "\\begin{array}[]{l}{\\tiny {#2}}\\\\\\raise{1.5pt}{{\\tiny{#1}}}\\end{array}}$\n",
        "$\\newcommand{\\xinp}[5]{\n",
        "\\begin{array}[]{r}{\\tiny{#4\\ }}\\\\\\raise{1.5pt}{{\\tiny{#3}}}\\end{array}\n",
        "\\kern{-4pt}\n",
        "\\begin{array}[]{l}{\\LARGE\\cl{I}}\\kern{-4.5pt}\\raise{1.5pt}{{\\tiny{#5}}}\\end{array}\n",
        "\\kern{2pt}\n",
        "\\begin{array}[]{l}{\\tiny {#2}}\\\\\\raise{1.5pt}{{\\tiny{#1}}}\\end{array}}$\n",
        "$\\newcommand{\\xdrop}[5]{\n",
        "\\begin{array}[]{r}{\\tiny{#4\\ }}\\\\\\raise{1.5pt}{{\\tiny{#3}}}\\end{array}\n",
        "\\kern{-4pt}\n",
        "\\begin{array}[]{l}{\\LARGE\\bb{D}}\\kern{-4.5pt}\\raise{1.5pt}{{\\tiny{#5}}}\\end{array}\n",
        "\\kern{0.5pt}\n",
        "\\begin{array}[]{l}{\\tiny {#2}}\\\\\\raise{1.5pt}{{\\tiny{#1}}}\\end{array}}$\n",
        "$\\newcommand{\\xmerge}[5]{\n",
        "\\begin{array}[]{r}{\\tiny{#4\\ }}\\\\\\raise{1.5pt}{{\\tiny{#3}}}\\end{array}\n",
        "\\kern{-4pt}\n",
        "\\begin{array}[]{l}{\\LARGE\\bb{M}}\\kern{-4.5pt}\\raise{1.5pt}{{\\tiny{#5}}}\\end{array}\n",
        "\\kern{2pt}\n",
        "\\begin{array}[]{l}{\\tiny {#2}}\\\\\\raise{1.5pt}{{\\tiny{#1}}}\\end{array}}$\n",
        "$\\newcommand{\\xgeneral}[5]{\n",
        "\\begin{array}[]{r}{\\tiny{#4\\ }}\\\\\\raise{1.5pt}{{\\tiny{#3}}}\\end{array}\n",
        "\\kern{-4pt}\n",
        "\\begin{array}[]{l}{\\LARGE\\bb{Q}}\\kern{-9.0pt}\\raise{4.5pt}{{\\tiny{#5}}}\\end{array}\n",
        "\\kern{2pt}\n",
        "\\begin{array}[]{l}{\\tiny {#2}}\\\\\\raise{1.5pt}{{\\tiny{#1}}}\\end{array}}$\n",
        "$\\newcommand{\\xunit}[3]{\\kern{4pt}\\underset{\\raise{5pt}{\\scriptsize{#2}}}{\\overset{\\scriptsize{#1}}{\\kern{-6pt}{\\LARGE\\bb{U}}\\kern{-7pt}\\raise{3pt}{\\tiny{#3}}}}}$\n",
        "$\\newcommand{\\xunitdef}[3]{\\xunit{#1}{#2}{}\\kern{3pt}\\raise{3pt}{\\longleftarrow\\boxed{{#3}}}}$\n",
        "$\\newcommand{\\xassign}[2]{{#1}\\longleftarrow{#2}}$\n",
        "$\\newcommand{\\xaggreg}[1]{\\left\\langle{#1}\\right\\rangle}$\n",
        "$\\newcommand{\\xx}[2]{(#1)(#2)}$\n",
        "$\\newcommand{\\bb}[1]{\\mathbb{#1}}$\n",
        "$\\newcommand{\\cl}[1]{\\mathcal{#1}}$\n",
        "$\\newcommand{\\tp}[1]{{#1}^{\\intercal}}$\n",
        "$\\newcommand{\\tr}[1]{\\text{trace}\\left[#1\\right]}$\n",
        "$\\newcommand{\\inv}[1]{\\in\\bb{R}^{#1}}$\n",
        "$\\newcommand{\\inm}[2]{\\in\\bb{R}^{#1\\times#2}}$\n",
        "$\\newcommand{\\invc}[1]{\\in\\bb{C}^{#1}}$\n",
        "$\\newcommand{\\inmc}[2]{\\in\\bb{C}^{#1\\times#2}}$\n",
        "$\\newcommand{\\rbox}[2]{\\mathrel{\\raise{#1}{#2}}}$\n",
        "$\\def\\ass{\\leftarrow}$\n",
        "$\\def\\cl#1{{\\cal#1}}$\n",
        "$\\def\\diag#1{\\mathtt{diag}\\left[#1\\right]}$\n",
        "$\\def\\dotp#1#2{\\left\\langle#1,#2\\right\\rangle}$\n",
        "$\\def\\dra{\\overset{\\circ}{\\lra}}$\n",
        "$\\def\\ds{\\displaystyle}$\n",
        "$\\def\\eqd{\\doteq}$\n",
        "$\\def\\lra{\\longrightarrow}$\n",
        "$\\def\\mbm#1{\\mathbf{#1}}$\n",
        "$\\def\\od#1#2{\\nabla_{#2}#1}$\n",
        "$\\def\\ov#1{\\overline{#1}}$\n",
        "$\\def\\ovra#1{\\overset{#1}{\\lra}}$\n",
        "$\\newcommand{\\ovraa}[1]{\\kern{6pt}\\raise{6pt}{\\underrightarrow{#1}}\\kern{6pt}}$\n",
        "$\\newcommand{\\ovlaa}[1]{\\kern{6pt}\\raise{6pt}{\\underleftarrow{#1}}\\kern{6pt}}$\n",
        "$\\def\\pdt#1#2#3{\\frac{\\partial^2 #1}{\\partial #2\\partial #3}}$\n",
        "$\\def\\rank#1{\\mathtt{rank}\\left[#1\\right]}$\n",
        "$\\def\\ra{\\rightarrow}$\n",
        "$\\def\\rv#1{\\widetilde{#1}}$\n",
        "$\\def\\sp#1#2{\\frac{\\partial{#1}}{\\partial{#2}}}$\n",
        "$\\def\\span#1{\\mathtt{span}\\left[#1\\right]}$\n",
        "$\\def\\spp#1#2#3{\\frac{\\partial{#1}}{\\partial{#2}\\partial{#3}}}$\n",
        "$\\def\\th#1{\\ov{#1}^{\\intercal}}$\n",
        "$\\def\\tod#1#2{\\tp{\\nabla}_{#2}{#1}}$\n",
        "$\\def\\tr#1{\\mathtt{tr}\\left[#1\\right]}$\n",
        "$\\def\\var#1{\\mathtt{var}\\left[#1\\right]}$\n",
        "$\\def\\vars#1#2{\\mathtt{var}_{#1}{\\left[#2\\right]}}$\n",
        "$\\def\\wtt{\\ \\text{ wtt }\\ }$\n",
        "$\\def\\xeq#1{\\overset{#1}{=}}$\n",
        "$\\def\\colorr#1#2{\\color{#1}{#2}}$\n",
        "$\\def\\kernn#1{\\kern{#1pt}}$\n",
        "$\\def\\pmodd#1{\\kern{-1mm}\\pmod{#1}}$\n",
        "$\\def\\raisee#1#2{\\raise{#1}{#2}}$\n",
        "$\\def\\spann#1{\\mathtt{span}\\left[#1\\right]}$\n",
        "<br>*STNN modified*\n",
        "$\\newcommand{\\aunit}[4]{{\\huge\\kern{2pt}}_{{#4}\\kern{2pt}}\\!{\\huge\\mathbb{#1}}_{{#2}}^{{#3}}}$\n",
        "$\\newcommand{\\acomp}[4]{{\\huge\\kern{2pt}}_{{#4}\\kern{2pt}}\\!{\\huge\\mathcal{#1}}_{{#2}}^{{#3}}}$\n",
        "$\\newcommand{\\aunitd}[5]{{\\huge\\kern{2pt}}_{{#4}\\kern{1pt}}^{\\raise{7pt}{{#5\\kern{1pt}}}}\\!{\\huge\\mathbb{#1}}_{{#2}}^{{#3}}}$\n",
        "$\\newcommand{\\acompd}[5]{{\\huge\\kern{2pt}}_{{#4}\\kern{1pt}}^{\\raise{7pt}{{#5\\kern{1pt}}}}\\!{\\huge\\mathcal{#1}}_{{#2}}^{{#3}}}$\n",
        "$\\newcommand{\\amid}[4]{\\raise{#2}{\\kern{#3}{\\tiny#1}\\kern{#4}}}$\n",
        "$\\newcommand{\\aconv}[3]{\\aunit{\\kern{-1.5pt}C}{#1}{#2}{#3}}$\n",
        "$\\newcommand{\\aconvcomp}[3]{{\\huge\\kern{2pt}}_{{#3}\\kern{2pt}}\\!{\\huge\\mathcal{C}}_{{#1}}^{{#2}}}$\n",
        "$\\newcommand{\\ainp}[2]{{\\huge\\mathcal{I}}_{\\kern{3pt}{#1}}^{{#2}}}$\n",
        "$\\newcommand{\\adense}[3]{\\aunit{F}{\\kern{-3pt}{#1}}{#2}{#3}}$\n",
        "$\\newcommand{\\adrop}[1]{\\aunit{D\\!}{#1}{}{}}$\n",
        "$\\newcommand{\\beginstnncomponent}[2]{\\scriptsize\\begin{array}{l}\\mathit{STNN\\ Component}\\ovraa{#2}\n",
        "\\acomp{#1}{\\boxed{a}}{\\boxed{b}}{\\boxed{c}}\\\\\\hline\\end{array}\\\\}$\n",
        "$\\newcommand{\\endstnncomponent}[2]{\\\\{\\scriptsize\\begin{array}{l}\\hline\\acomp{#1}{\\boxed{a}}{\\boxed{b}}{\\boxed{c}}\\ovlaa{#2}\\mathit{STNN\\ Component}\\end{array}}}$\n",
        "$\\newcommand{\\beginstnnblock}{}$\n",
        "$\\newcommand{\\endstnnblock}{}$"
      ]
    },
    {
      "cell_type": "markdown",
      "source": [
        "# Testowanie narzędzi trenowania modeli  MNIST"
      ],
      "metadata": {
        "id": "MezGiQvPahMi"
      }
    },
    {
      "cell_type": "code",
      "source": [
        "from importlib import reload\n",
        "import os"
      ],
      "metadata": {
        "id": "zEZNBQa_weQr"
      },
      "execution_count": null,
      "outputs": []
    },
    {
      "cell_type": "markdown",
      "metadata": {
        "id": "0HzA_8edek__"
      },
      "source": [
        "### Moduł `fiow` - przepływ plików w chmurze"
      ]
    },
    {
      "cell_type": "code",
      "execution_count": null,
      "metadata": {
        "id": "sQe3EzoOdg6C",
        "colab": {
          "base_uri": "https://localhost:8080/"
        },
        "outputId": "ac02c5c3-9bef-43e0-bc31-4f59c703672d"
      },
      "outputs": [
        {
          "output_type": "stream",
          "name": "stdout",
          "text": [
            "\n",
            "  FORMATS for paths of FIOW module:\n",
            "  cpath = './file name or path from here till file name'\n",
            "  gpath = 'My\\ Drive/further path till file name (use back slash before each space)'\n",
            "  NOTE: For each type of paths there is different recommended beginning path symbol:\n",
            "        cpath ./  \n",
            "        gpath none\n",
            "  Functions exported: wc, wg, gc, cg, wdown, wdowns, gup, gups, gdown, ipynb2py\n",
            "  Doc notes you will get by standard Python 'help' function:\n",
            "  e.g. help(wc)\n",
            "  \n"
          ]
        }
      ],
      "source": [
        "_module_name = \"fiow\"\n",
        "_module_token = \"17i0L6nHi_4OqSOl-kwAC0_dOavr9Sj2S&confirm=t\"\n",
        "if os.path.exists(f'{_module_name}.py'): os.remove(f'{_module_name}.py')\n",
        "os.system(f'gdown \"{_module_token}\"');\n",
        "try: fiow\n",
        "except NameError: import fiow\n",
        "else: reload(fiow)"
      ]
    },
    {
      "cell_type": "code",
      "execution_count": null,
      "metadata": {
        "id": "bxS7r-WizZOE"
      },
      "outputs": [],
      "source": [
        "nb_module_name = \"mnist-tools\"\n",
        "py_module_name =  \"mnist_tools\"\n",
        "if os.path.exists(f'{nb_module_name}.ipynb'): os.remove(f'{nb_module_name}.ipynb')\n",
        "if os.path.exists(f'{py_module_name}.ipynb'): os.remove(f'{py_module_name}.py')\n",
        "fiow.gdown(f'{nb_module_name}.ipynb',nb2py=f'{py_module_name}.py')"
      ]
    },
    {
      "cell_type": "code",
      "source": [
        "try: mnt\n",
        "except NameError:\n",
        "  import mnist_tools as mnt\n",
        "else: reload(mnt)"
      ],
      "metadata": {
        "colab": {
          "base_uri": "https://localhost:8080/"
        },
        "id": "SNr_DeFMwlvi",
        "outputId": "0b36e95d-53d4-496d-ee90-2c03759a0f62"
      },
      "execution_count": null,
      "outputs": [
        {
          "output_type": "stream",
          "name": "stdout",
          "text": [
            "\n",
            "  FORMATS for paths of FIOW module:\n",
            "  cpath = './file name or path from here till file name'\n",
            "  gpath = 'My\\ Drive/further path till file name (use back slash before each space)'\n",
            "  NOTE: For each type of paths there is different recommended beginning path symbol:\n",
            "        cpath ./  \n",
            "        gpath none\n",
            "  Functions exported: wc, wg, gc, cg, wdown, wdowns, gup, gups, gdown, ipynb2py\n",
            "  Doc notes you will get by standard Python 'help' function:\n",
            "  e.g. help(wc)\n",
            "  \n"
          ]
        }
      ]
    },
    {
      "cell_type": "markdown",
      "source": [
        "## TESTY"
      ],
      "metadata": {
        "id": "hzry1pB2lvqc"
      }
    },
    {
      "cell_type": "markdown",
      "metadata": {
        "id": "LkwslVgiuqIb"
      },
      "source": [
        "### TU OTWIERAMY NOWY EKSPERYMENT"
      ]
    },
    {
      "cell_type": "code",
      "execution_count": null,
      "metadata": {
        "id": "KgkmJoDgo3gX"
      },
      "outputs": [],
      "source": [
        "series_id = 'series-0'  # tu MOŻESZ ZMIENIĆ SERIĘ EKSPERYMENTÓW\n",
        "ex = mnt.EXP()          # tu TWORZYSZ NOWY EKSPERYMENT\n",
        "ex.is_small_dataset = False"
      ]
    },
    {
      "cell_type": "markdown",
      "metadata": {
        "id": "hEPtCyHuf3JH"
      },
      "source": [
        "### POBIERAMY KOLEKCJE DANYCH MNIST"
      ]
    },
    {
      "cell_type": "markdown",
      "source": [
        "Pobieranie będzie zignorowane jeśli żądana kolekcja była ostatnio pobrana na dysk Colaba!"
      ],
      "metadata": {
        "id": "Ab20A6NgFcsz"
      }
    },
    {
      "cell_type": "code",
      "execution_count": null,
      "metadata": {
        "id": "IZjJqERJTcDC"
      },
      "outputs": [],
      "source": [
        "mnt.load_mnist(is_small_dataset=ex.is_small_dataset)"
      ]
    },
    {
      "cell_type": "markdown",
      "metadata": {
        "id": "hUJYVNmUgB1o"
      },
      "source": [
        "#### Sprawdzamy kompletność pobranych plików"
      ]
    },
    {
      "cell_type": "code",
      "execution_count": null,
      "metadata": {
        "colab": {
          "base_uri": "https://localhost:8080/"
        },
        "id": "2BzFDNOXYX-E",
        "outputId": "f1aa0183-e343-4cf7-ead2-d1f8d3a8d595"
      },
      "outputs": [
        {
          "output_type": "stream",
          "name": "stdout",
          "text": [
            "File exists?:\n",
            "train/labels.pck exists?: True\n",
            "test/labels.pck exists?: True\n",
            "train/0.raw exists?: True\n",
            "train/0.jpg exists?: True\n",
            "train/0.png exists?: True\n",
            "test/0.raw exists?: True\n",
            "test/0.jpg exists?: True\n",
            "test/0.png exists?: True\n",
            "train dataset with 60000 elements\n",
            "test dataset with 10000 elements\n"
          ]
        }
      ],
      "source": [
        "print(\"File exists?:\")\n",
        "print(f\"train/labels.pck exists?: {os.path.exists('train/labels.pck')}\")\n",
        "print(f\"test/labels.pck exists?: {os.path.exists('test/labels.pck')}\")\n",
        "print(f\"train/0.raw exists?: {os.path.exists('train/0.raw')}\")\n",
        "print(f\"train/0.jpg exists?: {os.path.exists('train/0.jpg')}\")\n",
        "print(f\"train/0.png exists?: {os.path.exists('train/0.png')}\")\n",
        "print(f\"test/0.raw exists?: {os.path.exists('test/0.raw')}\")\n",
        "print(f\"test/0.jpg exists?: {os.path.exists('test/0.jpg')}\")\n",
        "print(f\"test/0.png exists?: {os.path.exists('test/0.png')}\")\n",
        "with open('train/labels.pck','rb') as f: labels_train = mnt.pickle.load(f)\n",
        "with open('test/labels.pck','rb') as f: labels_test = mnt.pickle.load(f)\n",
        "print(f'train dataset with {len(labels_train)} elements')\n",
        "print(f'test dataset with {len(labels_test)} elements')"
      ]
    },
    {
      "cell_type": "code",
      "execution_count": null,
      "metadata": {
        "colab": {
          "base_uri": "https://localhost:8080/"
        },
        "id": "eGUU-9QBZSC8",
        "outputId": "d07c28f0-13ca-41cd-d64d-6e336686b9c8"
      },
      "outputs": [
        {
          "output_type": "stream",
          "name": "stdout",
          "text": [
            "True True True True True True\n",
            "False False False False False False\n"
          ]
        }
      ],
      "source": [
        "if not ex.is_small_dataset:\n",
        "  print(\\\n",
        "    os.path.exists('test/9999.raw'),\\\n",
        "    os.path.exists('test/9999.jpg'),\\\n",
        "    os.path.exists('test/9999.png'),\\\n",
        "    os.path.exists('train/59999.raw'),\\\n",
        "    os.path.exists('train/59999.jpg'),\\\n",
        "    os.path.exists('train/59999.png'))\n",
        "  print(\\\n",
        "    os.path.exists('test/10000.raw'),\\\n",
        "    os.path.exists('test/10000.jpg'),\\\n",
        "    os.path.exists('test/10000.png'),\\\n",
        "    os.path.exists('train/60000.raw'),\\\n",
        "    os.path.exists('train/60000.jpg'),\\\n",
        "    os.path.exists('train/60000.png'))\n",
        "else:\n",
        "  print(\\\n",
        "    os.path.exists('train/19999.raw'),\\\n",
        "    os.path.exists('train/19999.jpg'),\n",
        "    os.path.exists('train/19999.png'),\\\n",
        "    os.path.exists('test/9999.raw'),\\\n",
        "    os.path.exists('test/9999.jpg'),\\\n",
        "    os.path.exists('test/9999.png'))\n",
        "  print(\\\n",
        "    os.path.exists('train/20000.raw'),\\\n",
        "    os.path.exists('train/20000.jpg'),\n",
        "    os.path.exists('train/20000.png'),\\\n",
        "    os.path.exists('test/10000.raw'),\\\n",
        "    os.path.exists('test/10000.jpg'),\\\n",
        "    os.path.exists('test/10000.png'))"
      ]
    },
    {
      "cell_type": "markdown",
      "metadata": {
        "id": "VqMMoIxQjvzu"
      },
      "source": [
        "#### Czy działa dostawca danych?"
      ]
    },
    {
      "cell_type": "code",
      "execution_count": null,
      "metadata": {
        "colab": {
          "base_uri": "https://localhost:8080/",
          "height": 458
        },
        "id": "f1LoKc2sZkw_",
        "outputId": "498337a8-6970-4e7a-e50d-9156e03ffa2f"
      },
      "outputs": [
        {
          "output_type": "stream",
          "name": "stdout",
          "text": [
            "number of training examples: 54000\n",
            "torch.Size([1, 28, 28]) torch.Size([10]) tensor([0., 0., 0., 0., 0., 0., 0., 1., 0., 0.], device='cuda:0')\n",
            "image class: tensor(7, device='cuda:0')\n"
          ]
        },
        {
          "output_type": "display_data",
          "data": {
            "text/plain": [
              "<Figure size 640x480 with 1 Axes>"
            ],
            "image/png": "[encoded data removed]"
          },
          "metadata": {}
        }
      ],
      "source": [
        "#set_seed(12345)\n",
        "d = dict(p=0.95, rotate=(-15,15), translate_percent=(-0.1,0.1), scale=(0.9,1.1))\n",
        "dp = mnt.DataProvider('train',ext='raw',mode='train',affine=mnt.Affine(**d),\n",
        "                  shape=(28,28),force_color=False,from_file=True)\n",
        "nitems = dp.__len__(); print('number of training examples:',nitems)\n",
        "#label,image = dp[int(nitems*np.random.rand())]\n",
        "label,image = dp[int(nitems*mnt.torch.rand(1))]\n",
        "print(image.shape,label.shape,label)\n",
        "_,class_id = mnt.torch.max(label,0)\n",
        "print('image class:', class_id)\n",
        "img = image.squeeze().cpu().numpy()\n",
        "if len(img.shape)==3: img = img.transpose([1,2,0])\n",
        "if len(img.shape)==2: mnt.plt.imshow(img,cmap='gray')\n",
        "else: mnt.plt.imshow(img)\n",
        "mnt.plt.axis('off'); mnt.plt.show()"
      ]
    },
    {
      "cell_type": "markdown",
      "metadata": {
        "id": "bcBRPWC_l-Ye"
      },
      "source": [
        "***Pytanie***: Dlaczego obraz jest ten sam gdy stosujemy `torch.rand`, a zmienia się dla `np.random.rand`?"
      ]
    },
    {
      "cell_type": "markdown",
      "source": [
        "### TU ZACZYNAMY DEFINIOWAĆ ATRYBUTY EKSPERYMENTU"
      ],
      "metadata": {
        "id": "_Ej2oGKi_hXz"
      }
    },
    {
      "cell_type": "code",
      "source": [
        "ex.seed = 54321; mnt.set_seed(ex.seed)\n",
        "  # ZMIANA ZIARNa EKSPERYMENTU spowoduje\n",
        "  #   - ZMIANĘ KOLEJNOŚCI PRZETWARZANYCH DANYCH\n",
        "  #   - INNE PARAMETRY POCZĄTKOWE W JEDNOSTKACH\n",
        "\n",
        "# TAKIE ŚĆIEŻKI ZDEFINIUJ na swoim GDRIVE\n",
        "home = 'My\\ Drive/Colab\\ Notebooks/'  # to wszyscy mamy wspólne narzucone przez Google\n",
        "exp_root = home+'datasets/mnist/experiments/' #  wyniki możesz umieszczać gdzie chcesz\n",
        "# foldery oddzielające eksperymenty na dużym MNIST i na małym MNIST\n",
        "# możesz również nazwać jak chcesz\n",
        "exp_folder = exp_root+'20K-2/' if ex.is_small_dataset else exp_root+'60K-2/'\n",
        "\n",
        "# TU NIC NIE ZMIENIAJ\n",
        "xpm_gpath = exp_folder + series_id + '.pck'\n",
        "mod_gpath = exp_folder + 'model-'+series_id + '/'\n",
        "ex.model_path = mod_gpath + ex._time_  + '.pck'\n",
        "print(\"ścieżka modelu:\\n\",ex.model_path)\n",
        "\n",
        "ex.ext = 'raw' # 'jpg', 'png', 'raw'\n",
        "ex.shape = (28,28) # informacja potrzebna, gdy używamy formatu 'raw'\n",
        "ex.force_color = False # to gdy chcemy \"na siłę\", tj. przez powielanie zamienić\n",
        "                       # obraz luminancji Y na obraz RGB\n",
        "ex.augment = False # na ogół ustawiamy na True\n",
        "if ex.augment:\n",
        "  ex.affine = dict(p=0.95, rotate=(-10,10), translate_percent=(-0.1,0.1), scale=(0.9,1.1))\n",
        "    # to są parametry funkcji geometrycznego urozmaicania obrazu w module albumentation.py\n",
        "else:\n",
        "  ex.affine = None\n",
        "\n",
        "ex.batch_size = 54  # bo 1000 wsadów * 54 = 54000 = liczba obrazów wydzielonych do uczenia modelu\n",
        "\n",
        "ex.num_epochs = 50  # = 5, gdy np. wstępnie testujesz swoje dodatki do tego notatnika"
      ],
      "metadata": {
        "colab": {
          "base_uri": "https://localhost:8080/"
        },
        "id": "Jlt_2bEQpfq5",
        "outputId": "322326eb-4f8e-4f0d-d13f-27ccab5bf8ac"
      },
      "execution_count": null,
      "outputs": [
        {
          "output_type": "stream",
          "name": "stdout",
          "text": [
            "ścieżka modelu:\n",
            " My\\ Drive/Colab\\ Notebooks/datasets/mnist/experiments/60K-2/model-series-0/2023-12-04_09-37-58_722814.pck\n"
          ]
        }
      ]
    },
    {
      "cell_type": "markdown",
      "metadata": {
        "id": "UpZEI-fUpF-7"
      },
      "source": [
        "### TU TWORZYMY GENERATORY DANYCH\n",
        "\n",
        "Sprawdzamy przy okazji determinizm generatorów kontrolowany przez `set_seed`. To pośrednio zapewnia determinizm dla grup danych, a na tym nam zależy, gdy chcemy w sposób właściwy porównywać różne opcje modelu: efekty są liczone na tych samych danych wejściowych i tych samych wartościach początkowych parametrów trenowalnych."
      ]
    },
    {
      "cell_type": "code",
      "execution_count": null,
      "metadata": {
        "colab": {
          "base_uri": "https://localhost:8080/",
          "height": 127
        },
        "id": "DgaaJFbFAa_o",
        "outputId": "91848f30-8b6c-448a-ae3e-518e45bf6822"
      },
      "outputs": [
        {
          "output_type": "stream",
          "name": "stdout",
          "text": [
            "5 0 4 1 9 2 1 3 1 4 "
          ]
        },
        {
          "output_type": "display_data",
          "data": {
            "text/plain": [
              "<Figure size 1500x1500 with 10 Axes>"
            ],
            "image/png": "[encoded data removed]"
          },
          "metadata": {}
        }
      ],
      "source": [
        "(train_data, train_gen), (val_data, val_gen), (test_data, test_gen) = mnt.get_data_loaders(ex)\n",
        "ex.image_depth = train_data[0][1].shape[0]\n",
        "for k in range(10): print(mnt.torch.argmax(train_data[k][0]).item(),end=' ')\n",
        "mnt.plt.figure(figsize=(15,15))\n",
        "for k in range(10):\n",
        "  luma = train_data[k][1].cpu().numpy().reshape(28,28)\n",
        "  mnt.plt.subplot(1,10,k+1); mnt.plt.imshow(luma,cmap='gray'); mnt.plt.axis('off')"
      ]
    },
    {
      "cell_type": "markdown",
      "metadata": {
        "id": "3nhp6Uevn8_c"
      },
      "source": [
        "### TESTUJEMY BUDOWĘ MODELU"
      ]
    },
    {
      "cell_type": "markdown",
      "metadata": {
        "id": "O-3f6x7Djm5K"
      },
      "source": [
        "#### TU WYBIERZ ARCHITEKTURĘ, OPTYMALIZATOR oraz jego KONTROLER"
      ]
    },
    {
      "cell_type": "code",
      "execution_count": null,
      "metadata": {
        "id": "4_3J611YKhjh"
      },
      "outputs": [],
      "source": [
        "#net = set_net_12f(ex)\n",
        "#net = set_net_21c(ex)\n",
        "#net = set_net_22c(ex)\n",
        "net = mnt.set_net_23c(ex)\n",
        "ex.device = mnt.get_device()\n",
        "net.to(ex.device)\n",
        "ex.lr = 5*1e-2\n",
        "optimizer = mnt.torch.optim.Adam(net.parameters(), lr=ex.lr)\n",
        "scheduler =  mnt.torch.optim.lr_scheduler.LambdaLR(optimizer, lambda epoch: ex.lr*0.95**epoch)"
      ]
    },
    {
      "cell_type": "markdown",
      "metadata": {
        "id": "IstxVhZ4kOTq"
      },
      "source": [
        "#### TU ZDECYDUJ O PRELUDIUM AKTUALIZACJI oraz o KONTEKŚCIE EWALUACJI"
      ]
    },
    {
      "cell_type": "code",
      "execution_count": null,
      "metadata": {
        "id": "CcKCgLKYRCKh"
      },
      "outputs": [],
      "source": [
        "ex.isbe = True;  ex.soft_option = \"softmax\"; ex.loss_function = None\n",
        "#ex.loss_option =  \"cross entropy\"; ex.loss_reduction = \"mean\"; ex.isbe = False\n",
        "mnt.set_eval_context(ex,save_by='testing',evaluation_for=('train','val','test'))"
      ]
    },
    {
      "cell_type": "markdown",
      "metadata": {
        "id": "JkFN9KADstss"
      },
      "source": [
        "#### POPATRZ na META PARAMETRY zanim zaczniesz uczyć"
      ]
    },
    {
      "cell_type": "code",
      "execution_count": null,
      "metadata": {
        "colab": {
          "base_uri": "https://localhost:8080/"
        },
        "id": "50oPLrfdske8",
        "outputId": "abd98c82-f6e0-485f-95e7-dc44efc64f77"
      },
      "outputs": [
        {
          "output_type": "stream",
          "name": "stdout",
          "text": [
            "  _time_: 2023-12-04_09-37-58_722814\n",
            "  affine: {'p': 0.95, 'rotate': (-10, 10), 'translate_percent': (-0.1, 0.1), 'scale': (0.9, 1.1)}\n",
            "  batch_size: 54\n",
            "  device: cuda\n",
            "  ext: raw\n",
            "  force_color: False\n",
            "  image_depth: 1\n",
            "  inet: 3\n",
            "  is_small_dataset: False\n",
            "  isbe: True\n",
            "  loss_function: None\n",
            "  lr: 0.05\n",
            "  make_test_evaluation: True\n",
            "  make_train_evaluation: True\n",
            "  make_val_evaluation: True\n",
            "  model_path: My\\ Drive/Colab\\ Notebooks/datasets/mnist/experiments/60K-2/model-series-0/2023-12-04_09-37-58_722814.pck\n",
            "  net_structure: {'flist': (1, 32, 64, 128), 'klists': ((3, 3, 5), (3, 3, 5)), 'slists': ((1, 1, 2), (1, 1, 2)), 'plists': ((False, False, True), (False, False, True)), 'dlist': (-1, 0.4, 0.4), 'outres': 4, 'nclasses': 10}\n",
            "  num_epochs: 50\n",
            "  save_by: testing\n",
            "  seed: 54321\n",
            "  shape: (28, 28)\n",
            "  soft_option: softmax\n"
          ]
        }
      ],
      "source": [
        "print(ex)"
      ]
    },
    {
      "cell_type": "markdown",
      "metadata": {
        "id": "nBOkG8kCs3kj"
      },
      "source": [
        "#### TU URUCHOM PĘTLĘ UCZENIA"
      ]
    },
    {
      "cell_type": "code",
      "execution_count": null,
      "metadata": {
        "colab": {
          "base_uri": "https://localhost:8080/"
        },
        "id": "WEWfp2UosjXe",
        "outputId": "1b864c64-1428-404b-bf10-f1c6506b243e"
      },
      "outputs": [
        {
          "output_type": "stream",
          "name": "stdout",
          "text": [
            "epoch [1/50], batch [500/1000], current mean loss:0.00829404\n",
            "epoch [1/50], batch [1000/1000], current mean loss:0.00635017\n",
            "epoch [1/50], softmax: loss-> train:0.00313877 val:0.00295211 success rate-> train:97.96% val:98.12% test:98.17% \n",
            "epoch [2/50], batch [500/1000], current mean loss:0.00341713\n",
            "epoch [2/50], batch [1000/1000], current mean loss:0.00311991\n",
            "epoch [2/50], softmax: loss-> train:0.00275873 val:0.00253879 success rate-> train:98.22% val:98.32% test:98.22% \n",
            "Mounted at /content/gdrive/\n",
            "epoch [3/50], batch [500/1000], current mean loss:0.00248386\n",
            "epoch [3/50], batch [1000/1000], current mean loss:0.00251708\n",
            "epoch [3/50], softmax: loss-> train:0.00180240 val:0.00184104 success rate-> train:98.85% val:98.88% test:98.84% \n",
            "epoch [4/50], batch [500/1000], current mean loss:0.00173273\n",
            "epoch [4/50], batch [1000/1000], current mean loss:0.00184501\n",
            "epoch [4/50], softmax: loss-> train:0.00151829 val:0.00198959 success rate-> train:99.01% val:98.63% test:99.05% \n",
            "epoch [5/50], batch [500/1000], current mean loss:0.00182029\n",
            "epoch [5/50], batch [1000/1000], current mean loss:0.00173162\n",
            "epoch [5/50], softmax: loss-> train:0.00133542 val:0.00169119 success rate-> train:99.12% val:98.95% test:99.03% \n",
            "epoch [6/50], batch [500/1000], current mean loss:0.00144914\n",
            "epoch [6/50], batch [1000/1000], current mean loss:0.00150406\n",
            "epoch [6/50], softmax: loss-> train:0.00106920 val:0.00149754 success rate-> train:99.30% val:99.08% test:99.15% \n",
            "epoch [7/50], batch [500/1000], current mean loss:0.00127788\n",
            "epoch [7/50], batch [1000/1000], current mean loss:0.00129269\n",
            "epoch [7/50], softmax: loss-> train:0.00098858 val:0.00144086 success rate-> train:99.38% val:99.12% test:99.28% \n",
            "epoch [8/50], batch [500/1000], current mean loss:0.00099805\n",
            "epoch [8/50], batch [1000/1000], current mean loss:0.00121958\n",
            "epoch [8/50], softmax: loss-> train:0.00111654 val:0.00146522 success rate-> train:99.29% val:99.05% test:99.03% \n",
            "epoch [9/50], batch [500/1000], current mean loss:0.00096548\n",
            "epoch [9/50], batch [1000/1000], current mean loss:0.00100787\n",
            "epoch [9/50], softmax: loss-> train:0.00109503 val:0.00148843 success rate-> train:99.26% val:99.08% test:99.00% \n",
            "epoch [10/50], batch [500/1000], current mean loss:0.00085911\n",
            "epoch [10/50], batch [1000/1000], current mean loss:0.00097260\n",
            "epoch [10/50], softmax: loss-> train:0.00058035 val:0.00131241 success rate-> train:99.63% val:99.20% test:99.22% \n",
            "epoch [11/50], batch [500/1000], current mean loss:0.00067045\n",
            "epoch [11/50], batch [1000/1000], current mean loss:0.00080215\n",
            "epoch [11/50], softmax: loss-> train:0.00072907 val:0.00134432 success rate-> train:99.51% val:99.05% test:99.12% \n",
            "epoch [12/50], batch [500/1000], current mean loss:0.00061132\n",
            "epoch [12/50], batch [1000/1000], current mean loss:0.00067389\n",
            "epoch [12/50], softmax: loss-> train:0.00054291 val:0.00134654 success rate-> train:99.65% val:99.13% test:99.18% \n",
            "epoch [13/50], batch [500/1000], current mean loss:0.00061255\n",
            "epoch [13/50], batch [1000/1000], current mean loss:0.00065317\n",
            "epoch [13/50], softmax: loss-> train:0.00043817 val:0.00127184 success rate-> train:99.71% val:99.27% test:99.32% \n",
            "epoch [14/50], batch [500/1000], current mean loss:0.00051084\n",
            "epoch [14/50], batch [1000/1000], current mean loss:0.00058956\n",
            "epoch [14/50], softmax: loss-> train:0.00051397 val:0.00103431 success rate-> train:99.69% val:99.28% test:99.22% \n",
            "epoch [15/50], batch [500/1000], current mean loss:0.00041366\n",
            "epoch [15/50], batch [1000/1000], current mean loss:0.00049147\n",
            "epoch [15/50], softmax: loss-> train:0.00049679 val:0.00128575 success rate-> train:99.69% val:99.20% test:99.25% \n",
            "epoch [16/50], batch [500/1000], current mean loss:0.00044065\n",
            "epoch [16/50], batch [1000/1000], current mean loss:0.00047289\n",
            "epoch [16/50], softmax: loss-> train:0.00037987 val:0.00132500 success rate-> train:99.76% val:99.18% test:99.27% \n",
            "epoch [17/50], batch [500/1000], current mean loss:0.00033709\n",
            "epoch [17/50], batch [1000/1000], current mean loss:0.00037155\n",
            "epoch [17/50], softmax: loss-> train:0.00040614 val:0.00120734 success rate-> train:99.74% val:99.27% test:99.35% \n",
            "epoch [18/50], batch [500/1000], current mean loss:0.00038602\n",
            "epoch [18/50], batch [1000/1000], current mean loss:0.00040420\n",
            "epoch [18/50], softmax: loss-> train:0.00032304 val:0.00119769 success rate-> train:99.80% val:99.28% test:99.35% \n",
            "epoch [19/50], batch [500/1000], current mean loss:0.00034606\n",
            "epoch [19/50], batch [1000/1000], current mean loss:0.00039210\n",
            "epoch [19/50], softmax: loss-> train:0.00024101 val:0.00095663 success rate-> train:99.85% val:99.38% test:99.27% \n",
            "epoch [20/50], batch [500/1000], current mean loss:0.00032676\n",
            "epoch [20/50], batch [1000/1000], current mean loss:0.00030439\n",
            "epoch [20/50], softmax: loss-> train:0.00023004 val:0.00103018 success rate-> train:99.85% val:99.37% test:99.33% \n",
            "epoch [21/50], batch [500/1000], current mean loss:0.00026189\n",
            "epoch [21/50], batch [1000/1000], current mean loss:0.00029335\n",
            "epoch [21/50], softmax: loss-> train:0.00036873 val:0.00153640 success rate-> train:99.76% val:99.12% test:99.28% \n",
            "epoch [22/50], batch [500/1000], current mean loss:0.00031985\n",
            "epoch [22/50], batch [1000/1000], current mean loss:0.00027406\n",
            "epoch [22/50], softmax: loss-> train:0.00015690 val:0.00122638 success rate-> train:99.90% val:99.30% test:99.30% \n",
            "epoch [23/50], batch [500/1000], current mean loss:0.00021440\n",
            "epoch [23/50], batch [1000/1000], current mean loss:0.00024393\n",
            "epoch [23/50], softmax: loss-> train:0.00025786 val:0.00093374 success rate-> train:99.83% val:99.48% test:99.40% \n",
            "epoch [24/50], batch [500/1000], current mean loss:0.00020296\n",
            "epoch [24/50], batch [1000/1000], current mean loss:0.00019063\n",
            "epoch [24/50], softmax: loss-> train:0.00011760 val:0.00122649 success rate-> train:99.92% val:99.23% test:99.39% \n",
            "epoch [25/50], batch [500/1000], current mean loss:0.00015917\n",
            "epoch [25/50], batch [1000/1000], current mean loss:0.00018483\n",
            "epoch [25/50], softmax: loss-> train:0.00024980 val:0.00126481 success rate-> train:99.84% val:99.23% test:99.21% \n",
            "epoch [26/50], batch [500/1000], current mean loss:0.00016120\n",
            "epoch [26/50], batch [1000/1000], current mean loss:0.00014336\n",
            "epoch [26/50], softmax: loss-> train:0.00020262 val:0.00122868 success rate-> train:99.88% val:99.25% test:99.32% \n",
            "epoch [27/50], batch [500/1000], current mean loss:0.00015758\n",
            "epoch [27/50], batch [1000/1000], current mean loss:0.00014818\n",
            "epoch [27/50], softmax: loss-> train:0.00019435 val:0.00113134 success rate-> train:99.87% val:99.28% test:99.32% \n",
            "epoch [28/50], batch [500/1000], current mean loss:0.00018232\n",
            "epoch [28/50], batch [1000/1000], current mean loss:0.00018213\n",
            "epoch [28/50], softmax: loss-> train:0.00012737 val:0.00125108 success rate-> train:99.92% val:99.22% test:99.36% \n",
            "epoch [29/50], batch [500/1000], current mean loss:0.00016619\n",
            "epoch [29/50], batch [1000/1000], current mean loss:0.00014727\n",
            "epoch [29/50], softmax: loss-> train:0.00010992 val:0.00110611 success rate-> train:99.93% val:99.33% test:99.39% \n",
            "epoch [30/50], batch [500/1000], current mean loss:0.00017774\n",
            "epoch [30/50], batch [1000/1000], current mean loss:0.00015585\n",
            "epoch [30/50], softmax: loss-> train:0.00011486 val:0.00116931 success rate-> train:99.92% val:99.35% test:99.39% \n",
            "epoch [31/50], batch [500/1000], current mean loss:0.00010913\n",
            "epoch [31/50], batch [1000/1000], current mean loss:0.00014486\n",
            "epoch [31/50], softmax: loss-> train:0.00014566 val:0.00129629 success rate-> train:99.89% val:99.20% test:99.29% \n",
            "epoch [32/50], batch [500/1000], current mean loss:0.00007651\n",
            "epoch [32/50], batch [1000/1000], current mean loss:0.00010574\n",
            "epoch [32/50], softmax: loss-> train:0.00012287 val:0.00127911 success rate-> train:99.92% val:99.23% test:99.36% \n",
            "epoch [33/50], batch [500/1000], current mean loss:0.00005117\n",
            "epoch [33/50], batch [1000/1000], current mean loss:0.00007682\n",
            "epoch [33/50], softmax: loss-> train:0.00012534 val:0.00105051 success rate-> train:99.93% val:99.38% test:99.40% \n",
            "epoch [34/50], batch [500/1000], current mean loss:0.00008371\n",
            "epoch [34/50], batch [1000/1000], current mean loss:0.00008716\n",
            "epoch [34/50], softmax: loss-> train:0.00006772 val:0.00104160 success rate-> train:99.96% val:99.40% test:99.40% \n",
            "epoch [35/50], batch [500/1000], current mean loss:0.00009784\n",
            "epoch [35/50], batch [1000/1000], current mean loss:0.00009220\n",
            "epoch [35/50], softmax: loss-> train:0.00007630 val:0.00107351 success rate-> train:99.94% val:99.30% test:99.41% \n",
            "epoch [36/50], batch [500/1000], current mean loss:0.00006955\n",
            "epoch [36/50], batch [1000/1000], current mean loss:0.00005382\n",
            "epoch [36/50], softmax: loss-> train:0.00006345 val:0.00103502 success rate-> train:99.96% val:99.37% test:99.30% \n",
            "epoch [37/50], batch [500/1000], current mean loss:0.00007238\n",
            "epoch [37/50], batch [1000/1000], current mean loss:0.00007140\n",
            "epoch [37/50], softmax: loss-> train:0.00005802 val:0.00100874 success rate-> train:99.96% val:99.42% test:99.41% \n",
            "epoch [38/50], batch [500/1000], current mean loss:0.00005970\n",
            "epoch [38/50], batch [1000/1000], current mean loss:0.00008332\n",
            "epoch [38/50], softmax: loss-> train:0.00005938 val:0.00098520 success rate-> train:99.96% val:99.42% test:99.43% \n",
            "epoch [39/50], batch [500/1000], current mean loss:0.00005226\n",
            "epoch [39/50], batch [1000/1000], current mean loss:0.00005225\n",
            "epoch [39/50], softmax: loss-> train:0.00007589 val:0.00120805 success rate-> train:99.95% val:99.32% test:99.46% \n",
            "epoch [40/50], batch [500/1000], current mean loss:0.00004528\n",
            "epoch [40/50], batch [1000/1000], current mean loss:0.00004752\n",
            "epoch [40/50], softmax: loss-> train:0.00006044 val:0.00127015 success rate-> train:99.96% val:99.25% test:99.35% \n",
            "epoch [41/50], batch [500/1000], current mean loss:0.00004745\n",
            "epoch [41/50], batch [1000/1000], current mean loss:0.00005208\n",
            "epoch [41/50], softmax: loss-> train:0.00006880 val:0.00107441 success rate-> train:99.95% val:99.37% test:99.47% \n",
            "epoch [42/50], batch [500/1000], current mean loss:0.00002330\n",
            "epoch [42/50], batch [1000/1000], current mean loss:0.00004507\n",
            "epoch [42/50], softmax: loss-> train:0.00004037 val:0.00085348 success rate-> train:99.97% val:99.48% test:99.44% \n",
            "epoch [43/50], batch [500/1000], current mean loss:0.00007994\n",
            "epoch [43/50], batch [1000/1000], current mean loss:0.00007772\n",
            "epoch [43/50], softmax: loss-> train:0.00004967 val:0.00097310 success rate-> train:99.97% val:99.42% test:99.40% \n",
            "epoch [44/50], batch [500/1000], current mean loss:0.00002930\n",
            "epoch [44/50], batch [1000/1000], current mean loss:0.00004403\n",
            "epoch [44/50], softmax: loss-> train:0.00004495 val:0.00111359 success rate-> train:99.98% val:99.38% test:99.50% \n",
            "epoch [45/50], batch [500/1000], current mean loss:0.00002967\n",
            "epoch [45/50], batch [1000/1000], current mean loss:0.00004627\n",
            "epoch [45/50], softmax: loss-> train:0.00003827 val:0.00100162 success rate-> train:99.98% val:99.42% test:99.41% \n",
            "epoch [46/50], batch [500/1000], current mean loss:0.00006702\n",
            "epoch [46/50], batch [1000/1000], current mean loss:0.00004981\n",
            "epoch [46/50], softmax: loss-> train:0.00003248 val:0.00103749 success rate-> train:99.98% val:99.37% test:99.52% \n",
            "epoch [47/50], batch [500/1000], current mean loss:0.00004291\n",
            "epoch [47/50], batch [1000/1000], current mean loss:0.00004562\n",
            "epoch [47/50], softmax: loss-> train:0.00004491 val:0.00086164 success rate-> train:99.97% val:99.45% test:99.48% \n",
            "epoch [48/50], batch [500/1000], current mean loss:0.00003875\n",
            "epoch [48/50], batch [1000/1000], current mean loss:0.00003148\n",
            "epoch [48/50], softmax: loss-> train:0.00002644 val:0.00099104 success rate-> train:99.98% val:99.42% test:99.48% \n",
            "epoch [49/50], batch [500/1000], current mean loss:0.00001703\n",
            "epoch [49/50], batch [1000/1000], current mean loss:0.00002299\n",
            "epoch [49/50], softmax: loss-> train:0.00002564 val:0.00095716 success rate-> train:99.98% val:99.43% test:99.47% \n",
            "epoch [50/50], batch [500/1000], current mean loss:0.00003191\n",
            "epoch [50/50], batch [1000/1000], current mean loss:0.00003274\n",
            "epoch [50/50], softmax: loss-> train:0.00001829 val:0.00088691 success rate-> train:99.99% val:99.47% test:99.45% \n"
          ]
        }
      ],
      "source": [
        "beg = mnt.ptime()\n",
        "history, ftime, btime = mnt.train(net, train_gen, val_gen, ex, optimizer,\n",
        "        test_gen=test_gen, scheduler=scheduler)\n",
        "end = mnt.ptime()"
      ]
    },
    {
      "cell_type": "markdown",
      "source": [
        "#### TU WYLICZ STOSOWNE DANE CZASOWE"
      ],
      "metadata": {
        "id": "50gR1FrsNFwd"
      }
    },
    {
      "cell_type": "code",
      "source": [
        "ex.history = history\n",
        "###############\n",
        "elapsed = end-beg; fbtime = ftime+btime\n",
        "###############\n",
        "ex.train_time = int(.5+elapsed)\n",
        "print(f'total time: {ex.train_time} [s]')\n",
        "\n",
        "ex.ftime = int(.5+ftime)\n",
        "print(f'time of forward only: {ex.ftime} [s]')\n",
        "\n",
        "ex.ftime_elapsed_share = (ftime/elapsed)*100.\n",
        "print(f'share of forward in total: {ex.ftime_elapsed_share:.2f}%')\n",
        "\n",
        "ex.ftime_fbtime_share = (ftime/fbtime)*100\n",
        "print(f'share of forward in core: {ex.ftime_fbtime_share :.2f}%')\n",
        "\n",
        "################\n",
        "ex.btime = int(.5+btime)\n",
        "print(f'time of backward only: {ex.btime} [s]')\n",
        "\n",
        "ex.btime_elapsed_share = (btime/elapsed)*100.\n",
        "print(f'share of backward in total: {ex.btime_elapsed_share:.2f}%')\n",
        "\n",
        "ex.btime_fbtime_share = (btime/fbtime)*100\n",
        "print(f'share of backward in core: {ex.btime_fbtime_share :.2f}%')"
      ],
      "metadata": {
        "id": "VWO2kpO7-ySx",
        "colab": {
          "base_uri": "https://localhost:8080/"
        },
        "outputId": "7d2d1614-0c28-45f0-e3dd-af986e6175dd"
      },
      "execution_count": null,
      "outputs": [
        {
          "output_type": "stream",
          "name": "stdout",
          "text": [
            "total time: 1402 [s]\n",
            "time of forward only: 91 [s]\n",
            "share of forward in total: 6.51%\n",
            "share of forward in core: 48.28%\n",
            "time of backward only: 98 [s]\n",
            "share of backward in total: 6.97%\n",
            "share of backward in core: 51.72%\n"
          ]
        }
      ]
    },
    {
      "cell_type": "markdown",
      "source": [
        "#### OCEŃ OSTATNIE I NAJLEPSZE WYNIKI"
      ],
      "metadata": {
        "id": "IK5wU4qFON5A"
      }
    },
    {
      "cell_type": "code",
      "execution_count": null,
      "metadata": {
        "id": "Sv9-14FOwsdS"
      },
      "outputs": [],
      "source": [
        "if not ex.make_test_evaluation:\n",
        "  test_acc = test(net,test_gen)\n",
        "  print(test_acc,type(test_acc))\n",
        "  ex.acc_test = float(test_acc)"
      ]
    },
    {
      "cell_type": "code",
      "execution_count": null,
      "metadata": {
        "id": "QKjNcy79O2na",
        "colab": {
          "base_uri": "https://localhost:8080/"
        },
        "outputId": "6020168a-98ae-4990-c8bd-a94364483376"
      },
      "outputs": [
        {
          "output_type": "stream",
          "name": "stdout",
          "text": [
            "Loss in training for last epoch: 0.00001829\n",
            "Success rate in training for last epoch: 99.99%\n",
            "The best success rate in training: 99.99 % after epoch 50\n",
            "Loss in validating for last epoch: 0.00088691\n",
            "Success rate in validating for last epoch: 99.47%\n",
            "The best success rate in validation: 99.48 % after epoch 23\n",
            "Success rate in testing for last model: 99.45%\n",
            "The best success rate in test: 99.52 % after epoch 46\n",
            "Mean instant loss for last epoch: 0.00003274\n",
            "The best mean instant loss: 0.00002299 after epoch 49\n",
            "--------------------------------------------------\n",
            "  _time_: 2023-12-04_09-37-58_722814\n",
            "  affine: {'p': 0.95, 'rotate': (-10, 10), 'translate_percent': (-0.1, 0.1), 'scale': (0.9, 1.1)}\n",
            "  batch_size: 54\n",
            "  device: cuda\n",
            "  ext: raw\n",
            "  force_color: False\n",
            "  history: {'tloss_i': [0.00635017454624176, 0.00311991386115551, 0.0025170808658003807, 0.0018450063653290272, 0.0017316185403615236, 0.001504063024185598, 0.0012926945928484201, 0.0012195794843137264, 0.0010078656487166882, 0.0009726029238663614, 0.0008021511021070182, 0.0006738949450664222, 0.0006531701656058431, 0.0005895626964047551, 0.0004914700984954834, 0.00047289038775488734, 0.00037154825986362994, 0.00040420389268547297, 0.0003921003662981093, 0.00030439201509580016, 0.0002933453652076423, 0.00027405557921156287, 0.00024393084459006786, 0.00019062591309193522, 0.00018483198073226959, 0.00014336121967062354, 0.00014817739429417998, 0.00018213117436971515, 0.00014727171219419688, 0.00015585236542392522, 0.00014485720021184534, 0.00010574205953162163, 7.681957504246384e-05, 8.7164000433404e-05, 9.219886123901233e-05, 5.3820702305529267e-05, 7.139518129406497e-05, 8.33186277304776e-05, 5.2249961299821734e-05, 4.752116001327522e-05, 5.2082115871598944e-05, 4.506571713136509e-05, 7.771998207317665e-05, 4.403023194754496e-05, 4.6274206397356465e-05, 4.981253732694313e-05], 'tloss_e': [0.0031387724447995424, 0.002758730435743928, 0.001802397076971829, 0.0015182875795289874, 0.001335416454821825, 0.0010691985953599215, 0.000988577026873827, 0.0011165394680574536, 0.0010950322030112147, 0.0005803529638797045, 0.0007290732464753091, 0.0005429103039205074, 0.0004381720209494233, 0.0005139718414284289, 0.0004967895802110434, 0.0003798726247623563, 0.00040614246972836554, 0.0003230397996958345, 0.00024100669543258846, 0.00023003584647085518, 0.00036872585769742727, 0.00015690212603658438, 0.0002578620915301144, 0.00011759845801861957, 0.00024980437592603266, 0.00020261664758436382, 0.0001943530369317159, 0.00012737039651256055, 0.00010992412717314437, 0.00011485807044664398, 0.00014565711899194866, 0.0001228701730724424, 0.00012534089910332114, 6.771652260795236e-05, 7.62952258810401e-05, 6.345365545712411e-05, 5.801585575682111e-05, 5.938338290434331e-05, 7.589302549604326e-05, 6.043684697942808e-05, 6.879746069898829e-05, 4.0374394302489236e-05, 4.967235872754827e-05, 4.49454273621086e-05, 3.827286491286941e-05, 3.2483800168847665e-05], 'tacc_e': [0.9795740246772766, 0.9822407364845276, 0.9884814620018005, 0.99014812707901, 0.9911666512489319, 0.9930370450019836, 0.9937592148780823, 0.9928518533706665, 0.9926295876502991, 0.9962777495384216, 0.9950925707817078, 0.9965184926986694, 0.9970740675926208, 0.9968518018722534, 0.9968703389167786, 0.9975740313529968, 0.9973888397216797, 0.9979814887046814, 0.9985185265541077, 0.998537003993988, 0.9975740313529968, 0.9989814758300781, 0.9982777833938599, 0.9992406964302063, 0.9983518123626709, 0.9987777471542358, 0.9987221956253052, 0.9992036819458008, 0.999296247959137, 0.9991666674613953, 0.9989259243011475, 0.9991666674613953, 0.9992592334747314, 0.9995555281639099, 0.9994444251060486, 0.9996296167373657, 0.9996110796928406, 0.9995925426483154, 0.9995369911193848, 0.9995925426483154, 0.9995369911193848, 0.9997221827507019, 0.9997221827507019, 0.9997592568397522, 0.9997592568397522, 0.9997777342796326], 'vloss_e': [0.0029521090909838676, 0.0025387918576598167, 0.0018410366028547287, 0.001989590935409069, 0.0016911921557039022, 0.0014975398080423474, 0.00144085509236902, 0.0014652247773483396, 0.0014884265838190913, 0.0013124088291078806, 0.0013443176867440343, 0.0013465447118505836, 0.0012718355283141136, 0.0010343084577471018, 0.0012857450637966394, 0.0013249967014417052, 0.0012073370162397623, 0.0011976899113506079, 0.0009566306252963841, 0.0010301785077899694, 0.0015363958664238453, 0.00122638454195112, 0.0009337352239526808, 0.0012264938559383154, 0.0012648064875975251, 0.001228676876053214, 0.001131339929997921, 0.0012510782107710838, 0.001106114941649139, 0.0011693096021190286, 0.0012962938053533435, 0.001279110903851688, 0.0010505119571462274, 0.0010415995493531227, 0.0010735057294368744, 0.001035018707625568, 0.0010087357368320227, 0.00098519679158926, 0.0012080477317795157, 0.0012701541418209672, 0.0010744075989350677, 0.000853484496474266, 0.0009731042082421482, 0.0011135861277580261, 0.0010016238084062934, 0.001037486013956368], 'vacc_e': [0.981166660785675, 0.9831666350364685, 0.9888333082199097, 0.9863333106040955, 0.9894999861717224, 0.9908333420753479, 0.9911666512489319, 0.9904999732971191, 0.9908333420753479, 0.9919999837875366, 0.9904999732971191, 0.9913333058357239, 0.9926666617393494, 0.9928333163261414, 0.9919999837875366, 0.9918333292007446, 0.9926666617393494, 0.9928333163261414, 0.9938333034515381, 0.9936666488647461, 0.9911666512489319, 0.9929999709129333, 0.9948333501815796, 0.9923332929611206, 0.9923332929611206, 0.9925000071525574, 0.9928333163261414, 0.9921666383743286, 0.9933333396911621, 0.9934999942779541, 0.9919999837875366, 0.9923332929611206, 0.9938333034515381, 0.9940000176429749, 0.9929999709129333, 0.9936666488647461, 0.9941666722297668, 0.9941666722297668, 0.9931666851043701, 0.9925000071525574, 0.9936666488647461, 0.9948333501815796, 0.9941666722297668, 0.9938333034515381, 0.9941666722297668, 0.9936666488647461], 'test_acc_e': [0.9817000031471252, 0.9821999669075012, 0.9883999824523926, 0.9904999732971191, 0.9902999997138977, 0.9914999604225159, 0.9927999973297119, 0.9902999997138977, 0.9899999499320984, 0.9921999573707581, 0.9911999702453613, 0.9917999505996704, 0.9932000041007996, 0.9921999573707581, 0.9924999475479126, 0.9926999807357788, 0.9934999942779541, 0.9934999942779541, 0.9926999807357788, 0.9932999610900879, 0.9927999973297119, 0.9929999709129333, 0.9939999580383301, 0.9939000010490417, 0.9921000003814697, 0.9932000041007996, 0.9932000041007996, 0.9935999512672424, 0.9939000010490417, 0.9939000010490417, 0.9928999543190002, 0.9935999512672424, 0.9939999580383301, 0.9939999580383301, 0.9940999746322632, 0.9929999709129333, 0.9940999746322632, 0.9942999482154846, 0.9945999979972839, 0.9934999942779541, 0.9946999549865723, 0.9943999648094177, 0.9939999580383301, 0.9949999451637268, 0.9940999746322632, 0.995199978351593]}\n",
            "  image_depth: 1\n",
            "  inet: 3\n",
            "  is_small_dataset: False\n",
            "  isbe: True\n",
            "  loss_function: None\n",
            "  lr: 0.05\n",
            "  make_test_evaluation: True\n",
            "  make_train_evaluation: True\n",
            "  make_val_evaluation: True\n",
            "  model_path: My\\ Drive/Colab\\ Notebooks/datasets/mnist/experiments/60K-2/model-series-0/2023-12-04_09-37-58_722814.pck\n",
            "  net_structure: {'flist': (1, 32, 64, 128), 'klists': ((3, 3, 5), (3, 3, 5)), 'slists': ((1, 1, 2), (1, 1, 2)), 'plists': ((False, False, True), (False, False, True)), 'dlist': (-1, 0.4, 0.4), 'outres': 4, 'nclasses': 10}\n",
            "  num_epochs: 50\n",
            "  save_by: testing\n",
            "  saved_at_epoch: 46\n",
            "  seed: 54321\n",
            "  shape: (28, 28)\n",
            "  soft_option: softmax\n"
          ]
        }
      ],
      "source": [
        "ex.tloss_i = history['tloss_i'][-1]  # replaced by instant average loss\n",
        "if ex.make_train_evaluation:\n",
        "  ex.last_loss_train = history['tloss_e'][-1]\n",
        "  print('Loss in training for last epoch: {:.8f}'.format(ex.last_loss_train))\n",
        "  ex.last_acc_train = history['tacc_e'][-1]\n",
        "  print('Success rate in training for last epoch: {:.2f}%'.format(100*ex.last_acc_train))\n",
        "  indx = mnt.np.argmax(mnt.np.array(history['tacc_e'])); ex.epoch_with_best_acc_train = indx+1\n",
        "  ex.best_acc_train = history['tacc_e'][indx]\n",
        "  print(f'The best success rate in training: {100*ex.best_acc_train:.2f} % after epoch {indx+1}')\n",
        "\n",
        "if ex.make_val_evaluation:\n",
        "  ex.last_loss_val = history['vloss_e'][-1]\n",
        "  print('Loss in validating for last epoch: {:.8f}'.format(ex.last_loss_val))\n",
        "  ex.last_acc_val = history['vacc_e'][-1]\n",
        "  print('Success rate in validating for last epoch: {:.2f}%'.format(100*ex.last_acc_val))\n",
        "  indx = mnt.np.argmax(mnt.np.array(history['vacc_e'])); ex.epoch_with_best_acc_val = indx+1\n",
        "  ex.best_acc_val = history['vacc_e'][indx]\n",
        "  print(f'The best success rate in validation: {100*ex.best_acc_val:.2f} % after epoch {indx+1}')\n",
        "\n",
        "if ex.make_test_evaluation:\n",
        "  ex.acc_test= history['test_acc_e'][-1]\n",
        "  print('Success rate in testing for last model: {:.2f}%'.format(100*ex.acc_test))\n",
        "  indx = mnt.np.argmax(mnt.np.array(history['test_acc_e'])); ex.epoch_with_best_acc_test = indx+1\n",
        "  ex.best_acc_test = history['test_acc_e'][indx]\n",
        "  print(f'The best success rate in test: {100*ex.best_acc_test:.2f} % after epoch {indx+1}')\n",
        "\n",
        "ex.last_instant_loss = history['tloss_i'][-1]\n",
        "print('Mean instant loss for last epoch: {:.8f}'.format(ex.last_instant_loss))\n",
        "indx = mnt.np.argmin(mnt.np.array(history['tloss_i'])); ex.epoch_with_best_instant_loss = indx+1\n",
        "ex.best_instant_loss = history['tloss_i'][indx]\n",
        "print(f'The best mean instant loss: {ex.best_instant_loss:.8f} after epoch {indx+1}')\n",
        "print('-'*50)\n",
        "ex_best = mnt.load_model(net,optimizer,ex.model_path,fiow.ioc)\n",
        "history_best = ex_best.history\n",
        "print(ex_best)"
      ]
    },
    {
      "cell_type": "markdown",
      "source": [
        "#### OCEŃ WYKRESY METRYK w FUNKCJI EPOKI"
      ],
      "metadata": {
        "id": "AiUFo55bOrrV"
      }
    },
    {
      "cell_type": "code",
      "source": [
        "mnt.plot_loss_acc(history,ex,mod_gpath)"
      ],
      "metadata": {
        "colab": {
          "base_uri": "https://localhost:8080/",
          "height": 1000
        },
        "id": "mz6Vndqy6_X-",
        "outputId": "f15d6e9b-5400-4da4-8bbd-786045d33648"
      },
      "execution_count": null,
      "outputs": [
        {
          "output_type": "stream",
          "name": "stdout",
          "text": [
            "los-acc-50-softmax-net-3.png\n"
          ]
        },
        {
          "output_type": "display_data",
          "data": {
            "text/plain": [
              "<Figure size 800x1600 with 2 Axes>"
            ],
            "image/png": "[encoded data removed]"
          },
          "metadata": {}
        },
        {
          "output_type": "stream",
          "name": "stdout",
          "text": [
            "My\\ Drive/Colab\\ Notebooks/datasets/mnist/experiments/60K-2/model-series-0/los-acc-50-softmax-net-3.png\n"
          ]
        }
      ]
    },
    {
      "cell_type": "markdown",
      "source": [
        "#### POPATRZ CZY CHCESZ ZACHOWAĆ WYNIKI TEGO EKSPERYMENTU"
      ],
      "metadata": {
        "id": "96h-1mBWPCaV"
      }
    },
    {
      "cell_type": "code",
      "source": [
        "print(ex)"
      ],
      "metadata": {
        "id": "TDIfktEAPNx-",
        "colab": {
          "base_uri": "https://localhost:8080/"
        },
        "outputId": "c9df3612-7738-4859-b151-4eb834755a0b"
      },
      "execution_count": null,
      "outputs": [
        {
          "output_type": "stream",
          "name": "stdout",
          "text": [
            "  _time_: 2023-12-04_09-37-58_722814\n",
            "  acc_test: 0.9944999814033508\n",
            "  affine: {'p': 0.95, 'rotate': (-10, 10), 'translate_percent': (-0.1, 0.1), 'scale': (0.9, 1.1)}\n",
            "  batch_size: 54\n",
            "  best_acc_test: 0.995199978351593\n",
            "  best_acc_train: 0.9998888969421387\n",
            "  best_acc_val: 0.9948333501815796\n",
            "  best_instant_loss: 2.299182779097464e-05\n",
            "  btime: 98\n",
            "  btime_elapsed_share: 6.9726222108669855\n",
            "  btime_fbtime_share: 51.71987032135734\n",
            "  device: cuda\n",
            "  epoch_with_best_acc_test: 46\n",
            "  epoch_with_best_acc_train: 50\n",
            "  epoch_with_best_acc_val: 23\n",
            "  epoch_with_best_instant_loss: 49\n",
            "  ext: raw\n",
            "  force_color: False\n",
            "  ftime: 91\n",
            "  ftime_elapsed_share: 6.5088930511457495\n",
            "  ftime_fbtime_share: 48.28012967864265\n",
            "  gdrive_fig: My\\ Drive/Colab\\ Notebooks/datasets/mnist/experiments/60K-2/model-series-0/los-acc-50-softmax-net-3.png\n",
            "  history: {'tloss_i': [0.00635017454624176, 0.00311991386115551, 0.0025170808658003807, 0.0018450063653290272, 0.0017316185403615236, 0.001504063024185598, 0.0012926945928484201, 0.0012195794843137264, 0.0010078656487166882, 0.0009726029238663614, 0.0008021511021070182, 0.0006738949450664222, 0.0006531701656058431, 0.0005895626964047551, 0.0004914700984954834, 0.00047289038775488734, 0.00037154825986362994, 0.00040420389268547297, 0.0003921003662981093, 0.00030439201509580016, 0.0002933453652076423, 0.00027405557921156287, 0.00024393084459006786, 0.00019062591309193522, 0.00018483198073226959, 0.00014336121967062354, 0.00014817739429417998, 0.00018213117436971515, 0.00014727171219419688, 0.00015585236542392522, 0.00014485720021184534, 0.00010574205953162163, 7.681957504246384e-05, 8.7164000433404e-05, 9.219886123901233e-05, 5.3820702305529267e-05, 7.139518129406497e-05, 8.33186277304776e-05, 5.2249961299821734e-05, 4.752116001327522e-05, 5.2082115871598944e-05, 4.506571713136509e-05, 7.771998207317665e-05, 4.403023194754496e-05, 4.6274206397356465e-05, 4.981253732694313e-05, 4.561954119708389e-05, 3.1482803024118766e-05, 2.299182779097464e-05, 3.274479604442604e-05], 'tloss_e': [0.0031387724447995424, 0.002758730435743928, 0.001802397076971829, 0.0015182875795289874, 0.001335416454821825, 0.0010691985953599215, 0.000988577026873827, 0.0011165394680574536, 0.0010950322030112147, 0.0005803529638797045, 0.0007290732464753091, 0.0005429103039205074, 0.0004381720209494233, 0.0005139718414284289, 0.0004967895802110434, 0.0003798726247623563, 0.00040614246972836554, 0.0003230397996958345, 0.00024100669543258846, 0.00023003584647085518, 0.00036872585769742727, 0.00015690212603658438, 0.0002578620915301144, 0.00011759845801861957, 0.00024980437592603266, 0.00020261664758436382, 0.0001943530369317159, 0.00012737039651256055, 0.00010992412717314437, 0.00011485807044664398, 0.00014565711899194866, 0.0001228701730724424, 0.00012534089910332114, 6.771652260795236e-05, 7.62952258810401e-05, 6.345365545712411e-05, 5.801585575682111e-05, 5.938338290434331e-05, 7.589302549604326e-05, 6.043684697942808e-05, 6.879746069898829e-05, 4.0374394302489236e-05, 4.967235872754827e-05, 4.49454273621086e-05, 3.827286491286941e-05, 3.2483800168847665e-05, 4.491043000598438e-05, 2.6436908228788525e-05, 2.5643788831075653e-05, 1.828894528443925e-05], 'tacc_e': [0.9795740246772766, 0.9822407364845276, 0.9884814620018005, 0.99014812707901, 0.9911666512489319, 0.9930370450019836, 0.9937592148780823, 0.9928518533706665, 0.9926295876502991, 0.9962777495384216, 0.9950925707817078, 0.9965184926986694, 0.9970740675926208, 0.9968518018722534, 0.9968703389167786, 0.9975740313529968, 0.9973888397216797, 0.9979814887046814, 0.9985185265541077, 0.998537003993988, 0.9975740313529968, 0.9989814758300781, 0.9982777833938599, 0.9992406964302063, 0.9983518123626709, 0.9987777471542358, 0.9987221956253052, 0.9992036819458008, 0.999296247959137, 0.9991666674613953, 0.9989259243011475, 0.9991666674613953, 0.9992592334747314, 0.9995555281639099, 0.9994444251060486, 0.9996296167373657, 0.9996110796928406, 0.9995925426483154, 0.9995369911193848, 0.9995925426483154, 0.9995369911193848, 0.9997221827507019, 0.9997221827507019, 0.9997592568397522, 0.9997592568397522, 0.9997777342796326, 0.9996851682662964, 0.9998332858085632, 0.9998332858085632, 0.9998888969421387], 'vloss_e': [0.0029521090909838676, 0.0025387918576598167, 0.0018410366028547287, 0.001989590935409069, 0.0016911921557039022, 0.0014975398080423474, 0.00144085509236902, 0.0014652247773483396, 0.0014884265838190913, 0.0013124088291078806, 0.0013443176867440343, 0.0013465447118505836, 0.0012718355283141136, 0.0010343084577471018, 0.0012857450637966394, 0.0013249967014417052, 0.0012073370162397623, 0.0011976899113506079, 0.0009566306252963841, 0.0010301785077899694, 0.0015363958664238453, 0.00122638454195112, 0.0009337352239526808, 0.0012264938559383154, 0.0012648064875975251, 0.001228676876053214, 0.001131339929997921, 0.0012510782107710838, 0.001106114941649139, 0.0011693096021190286, 0.0012962938053533435, 0.001279110903851688, 0.0010505119571462274, 0.0010415995493531227, 0.0010735057294368744, 0.001035018707625568, 0.0010087357368320227, 0.00098519679158926, 0.0012080477317795157, 0.0012701541418209672, 0.0010744075989350677, 0.000853484496474266, 0.0009731042082421482, 0.0011135861277580261, 0.0010016238084062934, 0.001037486013956368, 0.0008616382256150246, 0.0009910428198054433, 0.0009571581613272429, 0.000886905356310308], 'vacc_e': [0.981166660785675, 0.9831666350364685, 0.9888333082199097, 0.9863333106040955, 0.9894999861717224, 0.9908333420753479, 0.9911666512489319, 0.9904999732971191, 0.9908333420753479, 0.9919999837875366, 0.9904999732971191, 0.9913333058357239, 0.9926666617393494, 0.9928333163261414, 0.9919999837875366, 0.9918333292007446, 0.9926666617393494, 0.9928333163261414, 0.9938333034515381, 0.9936666488647461, 0.9911666512489319, 0.9929999709129333, 0.9948333501815796, 0.9923332929611206, 0.9923332929611206, 0.9925000071525574, 0.9928333163261414, 0.9921666383743286, 0.9933333396911621, 0.9934999942779541, 0.9919999837875366, 0.9923332929611206, 0.9938333034515381, 0.9940000176429749, 0.9929999709129333, 0.9936666488647461, 0.9941666722297668, 0.9941666722297668, 0.9931666851043701, 0.9925000071525574, 0.9936666488647461, 0.9948333501815796, 0.9941666722297668, 0.9938333034515381, 0.9941666722297668, 0.9936666488647461, 0.9944999814033508, 0.9941666722297668, 0.9943333268165588, 0.9946666359901428], 'test_acc_e': [0.9817000031471252, 0.9821999669075012, 0.9883999824523926, 0.9904999732971191, 0.9902999997138977, 0.9914999604225159, 0.9927999973297119, 0.9902999997138977, 0.9899999499320984, 0.9921999573707581, 0.9911999702453613, 0.9917999505996704, 0.9932000041007996, 0.9921999573707581, 0.9924999475479126, 0.9926999807357788, 0.9934999942779541, 0.9934999942779541, 0.9926999807357788, 0.9932999610900879, 0.9927999973297119, 0.9929999709129333, 0.9939999580383301, 0.9939000010490417, 0.9921000003814697, 0.9932000041007996, 0.9932000041007996, 0.9935999512672424, 0.9939000010490417, 0.9939000010490417, 0.9928999543190002, 0.9935999512672424, 0.9939999580383301, 0.9939999580383301, 0.9940999746322632, 0.9929999709129333, 0.9940999746322632, 0.9942999482154846, 0.9945999979972839, 0.9934999942779541, 0.9946999549865723, 0.9943999648094177, 0.9939999580383301, 0.9949999451637268, 0.9940999746322632, 0.995199978351593, 0.9947999715805054, 0.9947999715805054, 0.9946999549865723, 0.9944999814033508]}\n",
            "  image_depth: 1\n",
            "  inet: 3\n",
            "  is_small_dataset: False\n",
            "  isbe: True\n",
            "  last_acc_train: 0.9998888969421387\n",
            "  last_acc_val: 0.9946666359901428\n",
            "  last_instant_loss: 3.274479604442604e-05\n",
            "  last_loss_train: 1.828894528443925e-05\n",
            "  last_loss_val: 0.000886905356310308\n",
            "  loss_function: None\n",
            "  lr: 0.05\n",
            "  make_test_evaluation: True\n",
            "  make_train_evaluation: True\n",
            "  make_val_evaluation: True\n",
            "  model_path: My\\ Drive/Colab\\ Notebooks/datasets/mnist/experiments/60K-2/model-series-0/2023-12-04_09-37-58_722814.pck\n",
            "  net_structure: {'flist': (1, 32, 64, 128), 'klists': ((3, 3, 5), (3, 3, 5)), 'slists': ((1, 1, 2), (1, 1, 2)), 'plists': ((False, False, True), (False, False, True)), 'dlist': (-1, 0.4, 0.4), 'outres': 4, 'nclasses': 10}\n",
            "  num_epochs: 50\n",
            "  save_by: testing\n",
            "  saved_at_epoch: 46\n",
            "  seed: 54321\n",
            "  shape: (28, 28)\n",
            "  soft_option: softmax\n",
            "  tloss_i: 3.274479604442604e-05\n",
            "  train_time: 1402\n"
          ]
        }
      ]
    },
    {
      "cell_type": "markdown",
      "source": [
        "#### ARCHIWIZUJ DANE o EKSPERYMENCIE"
      ],
      "metadata": {
        "id": "rfC_GfjLX_Fp"
      }
    },
    {
      "cell_type": "code",
      "execution_count": null,
      "metadata": {
        "id": "a7yENIZcA0Ir"
      },
      "outputs": [],
      "source": [
        "ex.save(xpm_gpath)"
      ]
    },
    {
      "cell_type": "markdown",
      "source": [
        "#### OBEJRZYJ EKSPERYMENTY W BIEŻĄCEJ SERII"
      ],
      "metadata": {
        "id": "F8koTi95PYnu"
      }
    },
    {
      "cell_type": "code",
      "source": [
        "edict = mnt.EXP.load(xpm_gpath)\n",
        "print('number of experiments saved:', len(edict))\n",
        "for (key,exx) in reversed(edict.items()):\n",
        "  print(exx)\n",
        "  print('+'*50)"
      ],
      "metadata": {
        "id": "GZ76yQD5ZGs4",
        "colab": {
          "base_uri": "https://localhost:8080/"
        },
        "outputId": "c46f62eb-d8a1-4807-b9e3-c68777bc4fd3"
      },
      "execution_count": null,
      "outputs": [
        {
          "output_type": "stream",
          "name": "stdout",
          "text": [
            "number of experiments saved: 3\n",
            "  _time_: 2023-12-04_09-37-58_722814\n",
            "  acc_test: 0.9944999814033508\n",
            "  affine: {'p': 0.95, 'rotate': (-10, 10), 'translate_percent': (-0.1, 0.1), 'scale': (0.9, 1.1)}\n",
            "  batch_size: 54\n",
            "  best_acc_test: 0.995199978351593\n",
            "  best_acc_train: 0.9998888969421387\n",
            "  best_acc_val: 0.9948333501815796\n",
            "  best_instant_loss: 2.299182779097464e-05\n",
            "  btime: 98\n",
            "  btime_elapsed_share: 6.9726222108669855\n",
            "  btime_fbtime_share: 51.71987032135734\n",
            "  device: cuda\n",
            "  epoch_with_best_acc_test: 46\n",
            "  epoch_with_best_acc_train: 50\n",
            "  epoch_with_best_acc_val: 23\n",
            "  epoch_with_best_instant_loss: 49\n",
            "  ext: raw\n",
            "  force_color: False\n",
            "  ftime: 91\n",
            "  ftime_elapsed_share: 6.5088930511457495\n",
            "  ftime_fbtime_share: 48.28012967864265\n",
            "  gdrive_fig: My\\ Drive/Colab\\ Notebooks/datasets/mnist/experiments/60K-2/model-series-0/los-acc-50-softmax-net-3.png\n",
            "  history: {'tloss_i': [0.00635017454624176, 0.00311991386115551, 0.0025170808658003807, 0.0018450063653290272, 0.0017316185403615236, 0.001504063024185598, 0.0012926945928484201, 0.0012195794843137264, 0.0010078656487166882, 0.0009726029238663614, 0.0008021511021070182, 0.0006738949450664222, 0.0006531701656058431, 0.0005895626964047551, 0.0004914700984954834, 0.00047289038775488734, 0.00037154825986362994, 0.00040420389268547297, 0.0003921003662981093, 0.00030439201509580016, 0.0002933453652076423, 0.00027405557921156287, 0.00024393084459006786, 0.00019062591309193522, 0.00018483198073226959, 0.00014336121967062354, 0.00014817739429417998, 0.00018213117436971515, 0.00014727171219419688, 0.00015585236542392522, 0.00014485720021184534, 0.00010574205953162163, 7.681957504246384e-05, 8.7164000433404e-05, 9.219886123901233e-05, 5.3820702305529267e-05, 7.139518129406497e-05, 8.33186277304776e-05, 5.2249961299821734e-05, 4.752116001327522e-05, 5.2082115871598944e-05, 4.506571713136509e-05, 7.771998207317665e-05, 4.403023194754496e-05, 4.6274206397356465e-05, 4.981253732694313e-05, 4.561954119708389e-05, 3.1482803024118766e-05, 2.299182779097464e-05, 3.274479604442604e-05], 'tloss_e': [0.0031387724447995424, 0.002758730435743928, 0.001802397076971829, 0.0015182875795289874, 0.001335416454821825, 0.0010691985953599215, 0.000988577026873827, 0.0011165394680574536, 0.0010950322030112147, 0.0005803529638797045, 0.0007290732464753091, 0.0005429103039205074, 0.0004381720209494233, 0.0005139718414284289, 0.0004967895802110434, 0.0003798726247623563, 0.00040614246972836554, 0.0003230397996958345, 0.00024100669543258846, 0.00023003584647085518, 0.00036872585769742727, 0.00015690212603658438, 0.0002578620915301144, 0.00011759845801861957, 0.00024980437592603266, 0.00020261664758436382, 0.0001943530369317159, 0.00012737039651256055, 0.00010992412717314437, 0.00011485807044664398, 0.00014565711899194866, 0.0001228701730724424, 0.00012534089910332114, 6.771652260795236e-05, 7.62952258810401e-05, 6.345365545712411e-05, 5.801585575682111e-05, 5.938338290434331e-05, 7.589302549604326e-05, 6.043684697942808e-05, 6.879746069898829e-05, 4.0374394302489236e-05, 4.967235872754827e-05, 4.49454273621086e-05, 3.827286491286941e-05, 3.2483800168847665e-05, 4.491043000598438e-05, 2.6436908228788525e-05, 2.5643788831075653e-05, 1.828894528443925e-05], 'tacc_e': [0.9795740246772766, 0.9822407364845276, 0.9884814620018005, 0.99014812707901, 0.9911666512489319, 0.9930370450019836, 0.9937592148780823, 0.9928518533706665, 0.9926295876502991, 0.9962777495384216, 0.9950925707817078, 0.9965184926986694, 0.9970740675926208, 0.9968518018722534, 0.9968703389167786, 0.9975740313529968, 0.9973888397216797, 0.9979814887046814, 0.9985185265541077, 0.998537003993988, 0.9975740313529968, 0.9989814758300781, 0.9982777833938599, 0.9992406964302063, 0.9983518123626709, 0.9987777471542358, 0.9987221956253052, 0.9992036819458008, 0.999296247959137, 0.9991666674613953, 0.9989259243011475, 0.9991666674613953, 0.9992592334747314, 0.9995555281639099, 0.9994444251060486, 0.9996296167373657, 0.9996110796928406, 0.9995925426483154, 0.9995369911193848, 0.9995925426483154, 0.9995369911193848, 0.9997221827507019, 0.9997221827507019, 0.9997592568397522, 0.9997592568397522, 0.9997777342796326, 0.9996851682662964, 0.9998332858085632, 0.9998332858085632, 0.9998888969421387], 'vloss_e': [0.0029521090909838676, 0.0025387918576598167, 0.0018410366028547287, 0.001989590935409069, 0.0016911921557039022, 0.0014975398080423474, 0.00144085509236902, 0.0014652247773483396, 0.0014884265838190913, 0.0013124088291078806, 0.0013443176867440343, 0.0013465447118505836, 0.0012718355283141136, 0.0010343084577471018, 0.0012857450637966394, 0.0013249967014417052, 0.0012073370162397623, 0.0011976899113506079, 0.0009566306252963841, 0.0010301785077899694, 0.0015363958664238453, 0.00122638454195112, 0.0009337352239526808, 0.0012264938559383154, 0.0012648064875975251, 0.001228676876053214, 0.001131339929997921, 0.0012510782107710838, 0.001106114941649139, 0.0011693096021190286, 0.0012962938053533435, 0.001279110903851688, 0.0010505119571462274, 0.0010415995493531227, 0.0010735057294368744, 0.001035018707625568, 0.0010087357368320227, 0.00098519679158926, 0.0012080477317795157, 0.0012701541418209672, 0.0010744075989350677, 0.000853484496474266, 0.0009731042082421482, 0.0011135861277580261, 0.0010016238084062934, 0.001037486013956368, 0.0008616382256150246, 0.0009910428198054433, 0.0009571581613272429, 0.000886905356310308], 'vacc_e': [0.981166660785675, 0.9831666350364685, 0.9888333082199097, 0.9863333106040955, 0.9894999861717224, 0.9908333420753479, 0.9911666512489319, 0.9904999732971191, 0.9908333420753479, 0.9919999837875366, 0.9904999732971191, 0.9913333058357239, 0.9926666617393494, 0.9928333163261414, 0.9919999837875366, 0.9918333292007446, 0.9926666617393494, 0.9928333163261414, 0.9938333034515381, 0.9936666488647461, 0.9911666512489319, 0.9929999709129333, 0.9948333501815796, 0.9923332929611206, 0.9923332929611206, 0.9925000071525574, 0.9928333163261414, 0.9921666383743286, 0.9933333396911621, 0.9934999942779541, 0.9919999837875366, 0.9923332929611206, 0.9938333034515381, 0.9940000176429749, 0.9929999709129333, 0.9936666488647461, 0.9941666722297668, 0.9941666722297668, 0.9931666851043701, 0.9925000071525574, 0.9936666488647461, 0.9948333501815796, 0.9941666722297668, 0.9938333034515381, 0.9941666722297668, 0.9936666488647461, 0.9944999814033508, 0.9941666722297668, 0.9943333268165588, 0.9946666359901428], 'test_acc_e': [0.9817000031471252, 0.9821999669075012, 0.9883999824523926, 0.9904999732971191, 0.9902999997138977, 0.9914999604225159, 0.9927999973297119, 0.9902999997138977, 0.9899999499320984, 0.9921999573707581, 0.9911999702453613, 0.9917999505996704, 0.9932000041007996, 0.9921999573707581, 0.9924999475479126, 0.9926999807357788, 0.9934999942779541, 0.9934999942779541, 0.9926999807357788, 0.9932999610900879, 0.9927999973297119, 0.9929999709129333, 0.9939999580383301, 0.9939000010490417, 0.9921000003814697, 0.9932000041007996, 0.9932000041007996, 0.9935999512672424, 0.9939000010490417, 0.9939000010490417, 0.9928999543190002, 0.9935999512672424, 0.9939999580383301, 0.9939999580383301, 0.9940999746322632, 0.9929999709129333, 0.9940999746322632, 0.9942999482154846, 0.9945999979972839, 0.9934999942779541, 0.9946999549865723, 0.9943999648094177, 0.9939999580383301, 0.9949999451637268, 0.9940999746322632, 0.995199978351593, 0.9947999715805054, 0.9947999715805054, 0.9946999549865723, 0.9944999814033508]}\n",
            "  image_depth: 1\n",
            "  inet: 3\n",
            "  is_small_dataset: False\n",
            "  isbe: True\n",
            "  last_acc_train: 0.9998888969421387\n",
            "  last_acc_val: 0.9946666359901428\n",
            "  last_instant_loss: 3.274479604442604e-05\n",
            "  last_loss_train: 1.828894528443925e-05\n",
            "  last_loss_val: 0.000886905356310308\n",
            "  loss_function: None\n",
            "  lr: 0.05\n",
            "  make_test_evaluation: True\n",
            "  make_train_evaluation: True\n",
            "  make_val_evaluation: True\n",
            "  model_path: My\\ Drive/Colab\\ Notebooks/datasets/mnist/experiments/60K-2/model-series-0/2023-12-04_09-37-58_722814.pck\n",
            "  net_structure: {'flist': (1, 32, 64, 128), 'klists': ((3, 3, 5), (3, 3, 5)), 'slists': ((1, 1, 2), (1, 1, 2)), 'plists': ((False, False, True), (False, False, True)), 'dlist': (-1, 0.4, 0.4), 'outres': 4, 'nclasses': 10}\n",
            "  num_epochs: 50\n",
            "  save_by: testing\n",
            "  saved_at_epoch: 46\n",
            "  seed: 54321\n",
            "  shape: (28, 28)\n",
            "  soft_option: softmax\n",
            "  tloss_i: 3.274479604442604e-05\n",
            "  train_time: 1402\n",
            "++++++++++++++++++++++++++++++++++++++++++++++++++\n",
            "  _time_: 2023-12-04_08-21-12_829174\n",
            "  acc_test: 0.9957000017166138\n",
            "  affine: {'p': 0.95, 'rotate': (-10, 10), 'translate_percent': (-0.1, 0.1), 'scale': (0.9, 1.1)}\n",
            "  batch_size: 54\n",
            "  best_acc_test: 0.996399998664856\n",
            "  best_acc_train: 0.9980555176734924\n",
            "  best_acc_val: 0.996999979019165\n",
            "  best_instant_loss: 0.0015940213343128562\n",
            "  btime: 102\n",
            "  btime_elapsed_share: 2.686911531006763\n",
            "  btime_fbtime_share: 50.53771703574183\n",
            "  device: cuda\n",
            "  epoch_with_best_acc_test: 41\n",
            "  epoch_with_best_acc_train: 50\n",
            "  epoch_with_best_acc_val: 21\n",
            "  epoch_with_best_instant_loss: 49\n",
            "  ext: raw\n",
            "  force_color: False\n",
            "  ftime: 100\n",
            "  ftime_elapsed_share: 2.62973450804264\n",
            "  ftime_fbtime_share: 49.46228296425818\n",
            "  gdrive_fig: My\\ Drive/Colab\\ Notebooks/datasets/mnist/experiments/60K-2/model-series-0/los-acc-50-tanh-net-3.png\n",
            "  history: {'tloss_i': [0.052561864256858826, 0.018742714077234268, 0.014880552887916565, 0.012397685088217258, 0.01120067946612835, 0.009916966781020164, 0.008710424415767193, 0.008327747695147991, 0.007791171316057444, 0.006880441680550575, 0.006742123980075121, 0.0060346308164298534, 0.0057341353967785835, 0.005620684940367937, 0.005378509406000376, 0.0048904260620474815, 0.004765086807310581, 0.004423747770488262, 0.004421824123710394, 0.004034542012959719, 0.00405486673116684, 0.0038446299731731415, 0.0038249040953814983, 0.003149664495140314, 0.0033374472986906767, 0.003288664622232318, 0.0031439869198948145, 0.0029237286653369665, 0.0026978328824043274, 0.002917075762525201, 0.002725125988945365, 0.002657865406945348, 0.002647568704560399, 0.002597594168037176, 0.002406290965154767, 0.002394036389887333, 0.002179518574848771, 0.002240613102912903, 0.0023800849448889494, 0.0021047673653811216, 0.0018790304893627763, 0.001865857164375484, 0.0019705400336533785, 0.0017889785813167691, 0.0018921297742053866, 0.0018896360415965319, 0.0017850560834631324, 0.0018732950557023287, 0.0015940213343128562, 0.001759060425683856], 'tloss_e': [0.023925360292196274, 0.01840621419250965, 0.013102144934237003, 0.014034625142812729, 0.010262737050652504, 0.009129632264375687, 0.00882471352815628, 0.007294926326721907, 0.0065705799497663975, 0.006421520374715328, 0.00545442895963788, 0.0058883558958768845, 0.005000306759029627, 0.005551220383495092, 0.004512588493525982, 0.00424679322168231, 0.0041684298776090145, 0.004553445614874363, 0.003491298295557499, 0.0037059388123452663, 0.003684613388031721, 0.0036496417596936226, 0.003618725808337331, 0.0029845500830560923, 0.0029344134964048862, 0.003055945970118046, 0.003063228679820895, 0.0029375769663602114, 0.0026824281085282564, 0.002454540226608515, 0.0026517449878156185, 0.0025858848821371794, 0.0021426856983453035, 0.0023297357838600874, 0.00231351051479578, 0.002254793420433998, 0.0021364728454500437, 0.0020824403036385775, 0.0020947917364537716, 0.001996438018977642, 0.0019230922916904092, 0.0018989407690241933, 0.0018004622543230653, 0.0016991185257211328, 0.0018005550373345613, 0.0017529415199533105, 0.0018028157064691186, 0.0017724347999319434, 0.0016985200345516205, 0.0015794013161212206], 'tacc_e': [0.9709814786911011, 0.9777962565422058, 0.9838147759437561, 0.9832037091255188, 0.9865555167198181, 0.9883888959884644, 0.9880185127258301, 0.9900925755500793, 0.9913147687911987, 0.9913333058357239, 0.9929444193840027, 0.9923703670501709, 0.9931110739707947, 0.9924443960189819, 0.9941666722297668, 0.9943888783454895, 0.9944999814033508, 0.9941110610961914, 0.9952407479286194, 0.9949443936347961, 0.9952036738395691, 0.9951666593551636, 0.9951666593551636, 0.9959999918937683, 0.9962777495384216, 0.9959814548492432, 0.9960925579071045, 0.995888888835907, 0.9966111183166504, 0.9966481328010559, 0.9965740442276001, 0.9966111183166504, 0.9972777366638184, 0.9968888759613037, 0.9972221851348877, 0.9972037076950073, 0.9971296191215515, 0.997333288192749, 0.9970185160636902, 0.9976111054420471, 0.9973888397216797, 0.9975000023841858, 0.9977962970733643, 0.9977777600288391, 0.997759222984314, 0.997759222984314, 0.9976851344108582, 0.9975000023841858, 0.9978703260421753, 0.9980555176734924], 'vloss_e': [0.011638876050710678, 0.010126592591404915, 0.006737659685313702, 0.007899298332631588, 0.005819349549710751, 0.005797345656901598, 0.004930099006742239, 0.005077787674963474, 0.00451574707403779, 0.004010004457086325, 0.004485995974391699, 0.004837028216570616, 0.004024459049105644, 0.00420037005096674, 0.004495772533118725, 0.004359101876616478, 0.003204726381227374, 0.004384422209113836, 0.0030154483392834663, 0.003018045099452138, 0.0024814840871840715, 0.003880277508869767, 0.0037568481639027596, 0.004018302075564861, 0.003045174526050687, 0.0034006047062575817, 0.003285238752141595, 0.003767406800761819, 0.0037008209619671106, 0.0030802483670413494, 0.0030692417640239, 0.0033705877140164375, 0.0027110143564641476, 0.0030023541767150164, 0.003311344189569354, 0.0025827446952462196, 0.0027702616062015295, 0.0029577852692455053, 0.002537365537136793, 0.003155734622851014, 0.0032532340846955776, 0.002736905822530389, 0.0027149750385433435, 0.0032326492946594954, 0.0030549217481166124, 0.0028207721188664436, 0.0032085170969367027, 0.003194535616785288, 0.003425504546612501, 0.003075066488236189], 'vacc_e': [0.9866666793823242, 0.9883333444595337, 0.9911666512489319, 0.9906666278839111, 0.9916666746139526, 0.9923332929611206, 0.9943333268165588, 0.9936666488647461, 0.9940000176429749, 0.9944999814033508, 0.9938333034515381, 0.9940000176429749, 0.9943333268165588, 0.9941666722297668, 0.9931666851043701, 0.9933333396911621, 0.9959999918937683, 0.9933333396911621, 0.9951666593551636, 0.9961666464805603, 0.996999979019165, 0.9946666359901428, 0.9946666359901428, 0.9941666722297668, 0.9963333010673523, 0.9953333139419556, 0.9953333139419556, 0.9950000047683716, 0.9948333501815796, 0.9959999918937683, 0.9958333373069763, 0.9950000047683716, 0.9959999918937683, 0.9954999685287476, 0.9951666593551636, 0.9959999918937683, 0.9965000152587891, 0.9951666593551636, 0.9961666464805603, 0.9956666827201843, 0.9954999685287476, 0.9961666464805603, 0.9963333010673523, 0.9958333373069763, 0.9959999918937683, 0.9961666464805603, 0.9959999918937683, 0.9953333139419556, 0.9951666593551636, 0.9959999918937683], 'test_acc_e': [0.9850999712944031, 0.9872999787330627, 0.9881999492645264, 0.9878999590873718, 0.9934999942779541, 0.9927999973297119, 0.9922999739646912, 0.9939000010490417, 0.9935999512672424, 0.9940999746322632, 0.9942999482154846, 0.9939000010490417, 0.9944999814033508, 0.9932000041007996, 0.9937999844551086, 0.995199978351593, 0.9940999746322632, 0.9936999678611755, 0.9937999844551086, 0.9950999617576599, 0.995199978351593, 0.9954999685287476, 0.9961999654769897, 0.9942999482154846, 0.9948999881744385, 0.9949999451637268, 0.9953999519348145, 0.9958999752998352, 0.995199978351593, 0.9948999881744385, 0.9959999918937683, 0.9957999587059021, 0.9952999949455261, 0.9954999685287476, 0.9958999752998352, 0.9960999488830566, 0.9957000017166138, 0.9952999949455261, 0.9954999685287476, 0.9960999488830566, 0.996399998664856, 0.9960999488830566, 0.9959999918937683, 0.9955999851226807, 0.9958999752998352, 0.9957000017166138, 0.9948999881744385, 0.9954999685287476, 0.9957999587059021, 0.9957000017166138]}\n",
            "  image_depth: 1\n",
            "  inet: 3\n",
            "  is_small_dataset: False\n",
            "  isbe: True\n",
            "  last_acc_train: 0.9980555176734924\n",
            "  last_acc_val: 0.9959999918937683\n",
            "  last_instant_loss: 0.001759060425683856\n",
            "  last_loss_train: 0.0015794013161212206\n",
            "  last_loss_val: 0.003075066488236189\n",
            "  loss_function: None\n",
            "  lr: 0.05\n",
            "  make_test_evaluation: True\n",
            "  make_train_evaluation: True\n",
            "  make_val_evaluation: True\n",
            "  model_path: My\\ Drive/Colab\\ Notebooks/datasets/mnist/experiments/60K-2/model-series-0/2023-12-04_08-21-12_829174.pck\n",
            "  net_structure: {'flist': (1, 32, 64, 128), 'klists': ((3, 3, 5), (3, 3, 5)), 'slists': ((1, 1, 2), (1, 1, 2)), 'plists': ((False, False, True), (False, False, True)), 'dlist': (-1, 0.4, 0.4), 'outres': 4, 'nclasses': 10}\n",
            "  num_epochs: 50\n",
            "  save_by: testing\n",
            "  saved_at_epoch: 41\n",
            "  seed: 54321\n",
            "  shape: (28, 28)\n",
            "  soft_option: tanh\n",
            "  tloss_i: 0.001759060425683856\n",
            "  train_time: 3805\n",
            "++++++++++++++++++++++++++++++++++++++++++++++++++\n",
            "  _time_: 2023-12-03_19-13-10_245468\n",
            "  acc_test: 0.9953999519348145\n",
            "  affine: {'p': 0.95, 'rotate': (-10, 10), 'translate_percent': (-0.1, 0.1), 'scale': (0.9, 1.1)}\n",
            "  batch_size: 54\n",
            "  best_acc_test: 0.9967999458312988\n",
            "  best_acc_train: 0.9985555410385132\n",
            "  best_acc_val: 0.9973333477973938\n",
            "  best_instant_loss: 0.00032371553243137896\n",
            "  btime: 95\n",
            "  btime_elapsed_share: 2.5817990802963267\n",
            "  btime_fbtime_share: 51.661569770115676\n",
            "  device: cuda\n",
            "  epoch_with_best_acc_test: 20\n",
            "  epoch_with_best_acc_train: 35\n",
            "  epoch_with_best_acc_val: 30\n",
            "  epoch_with_best_instant_loss: 49\n",
            "  ext: raw\n",
            "  force_color: False\n",
            "  ftime: 89\n",
            "  ftime_elapsed_share: 2.415724401442323\n",
            "  ftime_fbtime_share: 48.33843022988432\n",
            "  gdrive_fig: My\\ Drive/Colab\\ Notebooks/datasets/mnist/experiments/60K-2/model-series-0/los-acc-50-sigmoid-net-3.png\n",
            "  history: {'tloss_i': [0.0005603404715657234, 0.0005024817655794322, 0.0005268488894216716, 0.0004995326744392514, 0.00046124894288368523, 0.0004901794600300491, 0.00046861081500537694, 0.0004286128096282482, 0.0004539699002634734, 0.00040062665357254446, 0.0004474420566111803, 0.0004376713477540761, 0.00042608368676155806, 0.00042272027349099517, 0.00042424912680871785, 0.000395500217564404, 0.00038425688399001956, 0.0003890257503371686, 0.0003686673007905483, 0.0003871383087243885, 0.0003806473105214536, 0.00037166877882555127, 0.0003937862056773156, 0.0003552498819772154, 0.0003775518562179059, 0.00042934573139064014, 0.0003656638727989048, 0.0004248380137141794, 0.00035834882874041796, 0.000397639290895313, 0.00035587025922723114, 0.0003705324197653681, 0.00037147669354453683, 0.00032712239772081375, 0.0003552231937646866, 0.00038429268170148134, 0.00033295282628387213, 0.00035295719862915576, 0.00035812906571663916, 0.00032538737286813557, 0.0003410498611629009, 0.0003668520075734705, 0.0004023364745080471, 0.00036356732016429305, 0.0003308242012280971, 0.000355301599483937, 0.0003347871534060687, 0.0003292798937764019, 0.00032371553243137896, 0.0003487354260869324], 'tloss_e': [0.0005233315750956535, 0.0005064192228019238, 0.00047319623990915716, 0.0004930599825456738, 0.0004519648791756481, 0.00047107759746722877, 0.0004636534722521901, 0.0004335892735980451, 0.0004428915272001177, 0.0004306453338358551, 0.0003943613264709711, 0.0003856273542623967, 0.00045002668048255146, 0.00038872193545103073, 0.0004340515879448503, 0.0003890515654347837, 0.00036267907125875354, 0.00036383926635608077, 0.00039730261778458953, 0.00041091107414104044, 0.0004481104842852801, 0.00036180869210511446, 0.0003811072383541614, 0.00035603574360720813, 0.00038122193654999137, 0.00040877878200262785, 0.00035670879879035056, 0.00038281394517980516, 0.000383807229809463, 0.00039580263546667993, 0.0003455514379311353, 0.0003498224541544914, 0.00034332540235482156, 0.00031488374224863946, 0.00032222724985331297, 0.00037542235804721713, 0.000342620158335194, 0.00035994008067063987, 0.00035146495793014765, 0.00034921697806566954, 0.00033382276888005435, 0.0003714040794875473, 0.00034146427060477436, 0.00034948994289152324, 0.00035573384957388043, 0.00035659916466102004, 0.0003539723693393171, 0.00034503734786994755, 0.00037020110175944865, 0.00035855776513926685], 'tacc_e': [0.9972221851348877, 0.9972037076950073, 0.9974814653396606, 0.997333288192749, 0.997592568397522, 0.9974073767662048, 0.9976111054420471, 0.997592568397522, 0.9975740313529968, 0.9977777600288391, 0.9980555176734924, 0.9979814887046814, 0.9977777600288391, 0.9981110692024231, 0.9975184798240662, 0.9980555176734924, 0.9983518123626709, 0.9980370402336121, 0.9978147745132446, 0.9979074001312256, 0.9976111054420471, 0.998203694820404, 0.9982407093048096, 0.9982777833938599, 0.9980185031890869, 0.9977962970733643, 0.9981481432914734, 0.9981110692024231, 0.9980185031890869, 0.9977777600288391, 0.9983333349227905, 0.9981666207313538, 0.9984814524650574, 0.9982407093048096, 0.9985555410385132, 0.9980555176734924, 0.9982592463493347, 0.9981481432914734, 0.9981481432914734, 0.9981851577758789, 0.998370349407196, 0.9980370402336121, 0.9983333349227905, 0.9983888864517212, 0.9981110692024231, 0.9978703260421753, 0.998203694820404, 0.9982777833938599, 0.9981666207313538, 0.9979999661445618], 'vloss_e': [0.0006411300855688751, 0.000617337180301547, 0.0007225990993902087, 0.0006293023470789194, 0.0006719570374116302, 0.0007008676184341311, 0.0005784120294265449, 0.0007297174306586385, 0.0005756238824687898, 0.0006759973475709558, 0.000689743144903332, 0.0006588458782061934, 0.0007196004153229296, 0.0006605718517675996, 0.0006754273199476302, 0.0006474270485341549, 0.0006932991091161966, 0.0005695042200386524, 0.0006232556770555675, 0.0006788310129195452, 0.0006107977824285626, 0.000563626759685576, 0.0005928496248088777, 0.0006727900472469628, 0.0006189366104081273, 0.0006451947847381234, 0.0006647711852565408, 0.0006759507232345641, 0.0006450152723118663, 0.0005209675873629749, 0.0005507314344868064, 0.000688117288518697, 0.000600359751842916, 0.0006425780593417585, 0.0006849896744824946, 0.0006235050386749208, 0.0005351650179363787, 0.0006451954832300544, 0.0005913510103709996, 0.0006331184413284063, 0.0007151612662710249, 0.0006536851287819445, 0.0006777708185836673, 0.0007499305065721273, 0.0005188379436731339, 0.0005207970971241593, 0.000672865251544863, 0.0005654810229316354, 0.0006828635814599693, 0.0006360735860653222], 'vacc_e': [0.996833324432373, 0.9959999918937683, 0.9961666464805603, 0.9959999918937683, 0.9965000152587891, 0.9965000152587891, 0.996666669845581, 0.9958333373069763, 0.996999979019165, 0.996833324432373, 0.9963333010673523, 0.9959999918937683, 0.9961666464805603, 0.9958333373069763, 0.9961666464805603, 0.9958333373069763, 0.9961666464805603, 0.996666669845581, 0.9959999918937683, 0.9961666464805603, 0.996999979019165, 0.997166633605957, 0.9965000152587891, 0.9963333010673523, 0.9965000152587891, 0.9959999918937683, 0.9963333010673523, 0.9963333010673523, 0.9959999918937683, 0.9973333477973938, 0.996999979019165, 0.9959999918937683, 0.996999979019165, 0.996833324432373, 0.9961666464805603, 0.996666669845581, 0.996833324432373, 0.9963333010673523, 0.9965000152587891, 0.9963333010673523, 0.9956666827201843, 0.996666669845581, 0.996833324432373, 0.9958333373069763, 0.996999979019165, 0.996833324432373, 0.9961666464805603, 0.996833324432373, 0.9961666464805603, 0.9958333373069763], 'test_acc_e': [0.9957999587059021, 0.9957000017166138, 0.9958999752998352, 0.9964999556541443, 0.9961999654769897, 0.996399998664856, 0.9961999654769897, 0.9958999752998352, 0.996399998664856, 0.9960999488830566, 0.9960999488830566, 0.9959999918937683, 0.9953999519348145, 0.9957000017166138, 0.9955999851226807, 0.9950999617576599, 0.9959999918937683, 0.9955999851226807, 0.9957999587059021, 0.9967999458312988, 0.9958999752998352, 0.9959999918937683, 0.9965999722480774, 0.996399998664856, 0.9961999654769897, 0.9957999587059021, 0.9954999685287476, 0.9965999722480774, 0.9957000017166138, 0.9961999654769897, 0.9958999752998352, 0.9953999519348145, 0.9960999488830566, 0.9953999519348145, 0.9959999918937683, 0.9953999519348145, 0.9959999918937683, 0.9962999820709229, 0.9957999587059021, 0.9958999752998352, 0.9959999918937683, 0.9965999722480774, 0.9952999949455261, 0.9957000017166138, 0.9959999918937683, 0.9960999488830566, 0.9957999587059021, 0.9957999587059021, 0.9965999722480774, 0.9953999519348145]}\n",
            "  image_depth: 1\n",
            "  inet: 3\n",
            "  is_small_dataset: False\n",
            "  isbe: True\n",
            "  last_acc_train: 0.9979999661445618\n",
            "  last_acc_val: 0.9958333373069763\n",
            "  last_instant_loss: 0.0003487354260869324\n",
            "  last_loss_train: 0.00035855776513926685\n",
            "  last_loss_val: 0.0006360735860653222\n",
            "  loss_function: None\n",
            "  lr: 0.05\n",
            "  make_test_evaluation: True\n",
            "  make_train_evaluation: True\n",
            "  make_val_evaluation: True\n",
            "  model_path: My\\ Drive/Colab\\ Notebooks/datasets/mnist/experiments/60K-2/model-series-0/2023-12-03_19-13-10_245468.pck\n",
            "  net_structure: {'flist': (1, 32, 64, 128), 'klists': ((3, 3, 5), (3, 3, 5)), 'slists': ((1, 1, 2), (1, 1, 2)), 'plists': ((False, False, True), (False, False, True)), 'dlist': (-1, 0.4, 0.4), 'outres': 4, 'nclasses': 10}\n",
            "  num_epochs: 50\n",
            "  save_by: testing\n",
            "  saved_at_epoch: 20\n",
            "  seed: 54321\n",
            "  shape: (28, 28)\n",
            "  soft_option: sigmoid\n",
            "  tloss_i: 0.0003487354260869324\n",
            "  train_time: 3693\n",
            "++++++++++++++++++++++++++++++++++++++++++++++++++\n"
          ]
        }
      ]
    },
    {
      "cell_type": "markdown",
      "source": [
        "#### WYCZYŚĆ ARCHIWUM - jeśli tego naprawdę chcesz"
      ],
      "metadata": {
        "id": "5TWTBQzoYJZd"
      }
    },
    {
      "cell_type": "code",
      "source": [
        "# mnt.EXP.clear_archive(xpm_gpath)"
      ],
      "metadata": {
        "id": "SiT4m0AEAfdK"
      },
      "execution_count": null,
      "outputs": []
    },
    {
      "cell_type": "markdown",
      "source": [
        "## MATMU-23Z, Laboratorium C.1\n",
        "\n",
        "W architekturze $\\cl{N}_3$ realizowanej przz funkcję `net_23c`, zbuduj następujące modele klasyfikatora cyfr na zbiorze uczącym `MNIST-20K` bez jego urozmaicania:\n",
        "1. Model A: `soft_option = softmax`\n",
        "1. Model B: `soft_option = hardtanh`\n",
        "\n",
        "W trakcie uczenia rejestruj przykłady ze zbioru testowego, które zostały mylnie zaklasyfikowane.\n",
        "\n",
        "Zapamiętaj trójki danych:\n",
        "1. numer obrazu błędnie klasyfikowanego,\n",
        "1. cyfra dana,\n",
        "1. cyfra rozpoznana.\n",
        "\n",
        "Na końcu wyświetl siatki tych obrazów dla każdego modelu osobno i siatkę wspólnych obrazów. Poniżej każdej siatki umieść tabelę informacyjną z zarejestrownaymi trójkami (numer obrazu błędnie klasyfikowany, cyfra dana, cyfra rozpoznana). Tabelę zrealizuj w LaTeXu."
      ],
      "metadata": {
        "id": "HNCQYXOF40om"
      }
    }
  ]
}